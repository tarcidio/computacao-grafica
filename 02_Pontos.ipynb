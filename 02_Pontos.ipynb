{
 "cells": [
  {
   "cell_type": "markdown",
   "metadata": {},
   "source": [
    "# Código 02: Pontos"
   ]
  },
  {
   "cell_type": "markdown",
   "metadata": {},
   "source": [
    "**Pipeline:** \n",
    "\n",
    "\n",
    "* Sistema de janela GLFW\n",
    "    * Inicializa o sistema e o esconde\n",
    "    * Cria janela e a torna principal\n",
    "    * Captura eventos de teclado e mouse\n",
    "* Shaders\n",
    "    * Cria código fonte de Shader de vértice e fragmento em string\n",
    "    * Requisita slot para a GPU para armazenar os códigos do shader, do vértice e do programa principal\n",
    "    * Associa os códigos aos espaços recebidos\n",
    "    * Compila os programas de vértice e de fragmento\n",
    "    * Associa os programas compilados do vértice e do fragmento ao programa principal\n",
    "    * Cria um executável do programa principal e define ele como o programa atual em uso\n",
    "* Manipulação dos dados\n",
    "    * Cria estrutura nparray com informações dos vértices\n",
    "    * Solicita buffer de dados (espaço) da GPU para armazenar os vértices e o define como espaço onde será manipulados os dados\n",
    "    * Preenche o buffer de dados com os dados dos vértices\n",
    "* Link vértices e shader\n",
    "    * Habilita atributo position\n",
    "    * Faz o link do atributo position do Shader de vértice com os vértices\n",
    "* Exibição: \n",
    "    * Exibe a janela\n",
    "    * Loop principal: renderiza primitivas gráficas em cima das informações de pontos armzenadas nos vértices (printa os pontos e executa diretiva)"
   ]
  },
  {
   "cell_type": "markdown",
   "metadata": {},
   "source": [
    "### Bibliotecas"
   ]
  },
  {
   "cell_type": "code",
   "execution_count": 3,
   "metadata": {},
   "outputs": [],
   "source": [
    "#Bibliotecas\n",
    "try:\n",
    "    import glfw\n",
    "    from OpenGL.GL import *\n",
    "    import numpy as np\n",
    "except ImportError:\n",
    "    !pip install glfw\n",
    "    !pip install pyopengl\n",
    "    !pip install numpy\n",
    "    import glfw\n",
    "    from OpenGL.GL import *\n",
    "    import numpy as np"
   ]
  },
  {
   "cell_type": "markdown",
   "metadata": {},
   "source": [
    "### Inicializando janela"
   ]
  },
  {
   "cell_type": "code",
   "execution_count": null,
   "metadata": {},
   "outputs": [],
   "source": [
    "glfw.init()\n",
    "glfw.window_hint(glfw.VISIBLE, glfw.FALSE)\n",
    "window = glfw.create_window(720, 600, \"Pontos\", None, None)\n",
    "glfw.make_context_current(window)"
   ]
  },
  {
   "cell_type": "markdown",
   "metadata": {},
   "source": [
    "### Eventos do teclado e mouse"
   ]
  },
  {
   "cell_type": "code",
   "execution_count": null,
   "metadata": {},
   "outputs": [],
   "source": [
    "def key_event(window, key, scancode, action, mods):\n",
    "    print('[key event] key=',key)\n",
    "    print('[key event] scancode=',scancode)\n",
    "    print('[key event] action=',action)\n",
    "    print('[key event] mods=',mods)\n",
    "    print('-------')\n",
    "\n",
    "glfw.set_key_callback(window, key_event)\n",
    "\n",
    "def mouse_event(window, button, action, mods):\n",
    "    print('[mouse event] button=',button)\n",
    "    print('[mouse event] action=',action)\n",
    "    print('[mouse event] mods=',mods)\n",
    "    print('-------')\n",
    "\n",
    "glfw.set_mouse_button_callback(window, mouse_event)"
   ]
  },
  {
   "cell_type": "markdown",
   "metadata": {},
   "source": [
    "### GLSL"
   ]
  },
  {
   "cell_type": "markdown",
   "metadata": {},
   "source": [
    "* \"OpenGL Shading Language\" (GLSF): linguagem de programação utilizada para escrever shaders (pequenos programas que são executados na placa de vídeo (GPU) para controlar aspectos específicos da renderização gráfica)\n",
    "* Armazenamos o código em uma string (ou lendo arquivo de texto) o qual será compilado pelo código futuramente\n",
    "* Usaremos GLSL antiga para ser compatível com os dispositivos"
   ]
  },
  {
   "cell_type": "markdown",
   "metadata": {},
   "source": [
    "### GLSL para Vertex Shader"
   ]
  },
  {
   "cell_type": "markdown",
   "metadata": {},
   "source": [
    "Código a seguir é responsável por processar cada vértice do objeto 2D. O código é útil para transformar as posições antes que sejam renderizadas na tela.\n",
    "\n",
    "* `attribute vec2 position`: declara um atributo chamado `position` que contém um vetor bidimensional de coordenadas (vec2). Esse atributo será preenchido posteriormente com os dados de posição dos vértices. Em GLSL, atributo é uma variável especial usada para passar dados dos vértices dos objetos para shaders\n",
    "* `void main(){}`: declara a função principal do Vertex Shader\n",
    "* `gl_Position = vec4(position, 0.0, 1.0);`: declara a variável global `gl_Position`. Armazena a posição transformada de um vértice. As três primeiras cordenadas do vetor de quatro elementos é a dimensão (x,y,z). O último componente (componente homogêneo) é usado para normalização\n",
    "\n",
    "Sobre `position` e `gl_Position`:\n",
    "* `position`: variável de atributo que armazena temporariamente as coordenadas de posição de um único vértice durante o processo de renderização. Durante o pipeline de renderização, o OpenGL ou a API gráfica que você está usando processa cada vértice individualmente. Para cada vértice, as coordenadas de posição são lidas do buffer de vértices, passadas para o atributo position no shader e, em seguida, as transformações necessárias são aplicadas a esse vértice\n",
    "* `gl_Position`: após todo o processamento, armazena a nova posição nesta variável. Quando o vértice for renderizado, ela vai ser utilizada por outro vértice"
   ]
  },
  {
   "cell_type": "code",
   "execution_count": null,
   "metadata": {},
   "outputs": [],
   "source": [
    "vertex_code = \"\"\"\n",
    "        attribute vec2 position;\n",
    "        void main(){\n",
    "            gl_Position = vec4(position,0.0,1.0);\n",
    "        }\n",
    "        \"\"\""
   ]
  },
  {
   "cell_type": "markdown",
   "metadata": {},
   "source": [
    "### GLSL para Fragment Shader"
   ]
  },
  {
   "cell_type": "markdown",
   "metadata": {},
   "source": [
    "Fragment Shader é responsável por determinar a cor de cada fragmento (pixel) na tela após o processo de rasterização.\n",
    "* `void(main){}`: declara a função principal do Fragment Shader\n",
    "* `gl_FragColor`: variável global especial que representa a cor do fragmento atual.\n",
    "* `vec4(0.0, 0.0, 0.0, 1.0)`: vetor de quatro componentes (RGBA) que representa uma cor preta totalmente opaca. Os três primeiros componentes (0.0, 0.0, 0.0) representam a intensidade de vermelho, verde e azul (preto não possui cor). O último componente (1.0) representa a opacidade total."
   ]
  },
  {
   "cell_type": "code",
   "execution_count": null,
   "metadata": {},
   "outputs": [],
   "source": [
    "fragment_code = \"\"\"\n",
    "        void main(){\n",
    "            gl_FragColor = vec4(0.0, 0.0, 0.0, 1.0);\n",
    "        }\n",
    "        \"\"\""
   ]
  },
  {
   "cell_type": "markdown",
   "metadata": {},
   "source": [
    "### Requisitando slot para a GPU para nossos programas Vertex e Fragment Shader"
   ]
  },
  {
   "cell_type": "markdown",
   "metadata": {},
   "source": [
    "O SO armazena um espaço do código dos nossos programas automaticamente. Porém, como estamos criando um programa dentro de outro, precisamos solicitar um espaço manualmente.\n",
    "\n",
    "* `glCreateProgram()`: cria um objeto programa vazio. Um objeto programa o qual objetos shaders podem ser anexados\n",
    "* `glCreateShader()`: cria um objeto shader vazio. Um objeto shader é usado para manter o codigo fonte que define o shader"
   ]
  },
  {
   "cell_type": "code",
   "execution_count": null,
   "metadata": {},
   "outputs": [],
   "source": [
    "program = glCreateProgram()\n",
    "vertex = glCreateShader(GL_VERTEX_SHADER)\n",
    "fragment = glCreateShader(GL_FRAGMENT_SHADER)"
   ]
  },
  {
   "cell_type": "markdown",
   "metadata": {},
   "source": [
    "### Associando os códigos fontes aos slots"
   ]
  },
  {
   "cell_type": "markdown",
   "metadata": {},
   "source": [
    "* `glShaderSource()`: seta o código fonte no objeto shader. Qualquer código anteriormente armazenado no objeto Shader é sobrescrito"
   ]
  },
  {
   "cell_type": "code",
   "execution_count": null,
   "metadata": {},
   "outputs": [],
   "source": [
    "glShaderSource(vertex, vertex_code)\n",
    "glShaderSource(fragment, fragment_code)"
   ]
  },
  {
   "cell_type": "markdown",
   "metadata": {},
   "source": [
    "### Compilando o Vertex Shader"
   ]
  },
  {
   "cell_type": "markdown",
   "metadata": {},
   "source": [
    "* `glCompileShader()`: compila o código fonte que estiver armazenado no objeto shader. O status da compilação será armazenado no objeto shader.\n",
    "* `glGetShaderiv()`: retorna um parametro, especificado via argumento, de um objeto shader\n",
    "* `glGetShaderInfoLog()`: retorna informação de log de um objeto shader"
   ]
  },
  {
   "cell_type": "code",
   "execution_count": null,
   "metadata": {},
   "outputs": [],
   "source": [
    "glCompileShader(vertex)\n",
    "if not glGetShaderiv(vertex, GL_COMPILE_STATUS):\n",
    "    error = glGetShaderInfoLog(vertex).decode()\n",
    "    print(error)\n",
    "    raise RuntimeError(\"Erro de compilacao do Vertex Shader\")"
   ]
  },
  {
   "cell_type": "markdown",
   "metadata": {},
   "source": [
    "### Compilando o Fragment Shader"
   ]
  },
  {
   "cell_type": "code",
   "execution_count": null,
   "metadata": {},
   "outputs": [],
   "source": [
    "glCompileShader(fragment)\n",
    "if not glGetShaderiv(fragment, GL_COMPILE_STATUS):\n",
    "    error = glGetShaderInfoLog(fragment).decode()\n",
    "    print(error)\n",
    "    raise RuntimeError(\"Erro de compilação do Fragment Shader\")"
   ]
  },
  {
   "cell_type": "markdown",
   "metadata": {},
   "source": [
    "### Associando programas compilados ao programa principal"
   ]
  },
  {
   "cell_type": "code",
   "execution_count": null,
   "metadata": {},
   "outputs": [],
   "source": [
    "#Anexa um objeto shader em um objeto programa\n",
    "glAttachShader(program, vertex)\n",
    "glAttachShader(program, fragment)"
   ]
  },
  {
   "cell_type": "markdown",
   "metadata": {},
   "source": [
    "### Linkagem do programa\n",
    "\n",
    "* Combinar os arquivos objeto de um programa em um único arquivo executável."
   ]
  },
  {
   "cell_type": "markdown",
   "metadata": {},
   "source": [
    "* `glLinkProgram()`: existindo algum objeto shader anexado ao objeto programa, a função irá criar um executável que será rodado no processador destinado a cada shader\n",
    "* `glUseProgram()`: define o programa recém-vinculado como o programa de shader atual em uso"
   ]
  },
  {
   "cell_type": "code",
   "execution_count": null,
   "metadata": {},
   "outputs": [],
   "source": [
    "glLinkProgram(program)\n",
    "if not glGetProgramiv(program, GL_LINK_STATUS):\n",
    "    print(glGetProgramInfoLog(program))\n",
    "    raise RuntimeError(\"Link error\")\n",
    "\n",
    "glUseProgram(program)"
   ]
  },
  {
   "cell_type": "markdown",
   "metadata": {},
   "source": [
    "### Sobre estruturas em python (resumo):"
   ]
  },
  {
   "cell_type": "code",
   "execution_count": null,
   "metadata": {},
   "outputs": [],
   "source": [
    "import numpy as np\n",
    "\n",
    "# Criação do array com 3 vértices\n",
    "vertices = np.zeros(3, [(\"posic\", np.float32, 2), (\"texture_coord\", np.float32, 2), (\"color\", np.float32, 4)])\n",
    "\n",
    "# Preenchimento dos vértices com coordenadas e coordenadas de textura\n",
    "vertices['posic'] = [\n",
    "    ( 0.0, 0.0),  # vértice 0\n",
    "    (0.5, 0.5),   # vértice 1\n",
    "    (-0.5, 0.5)   # vértice 2\n",
    "]\n",
    "\n",
    "vertices['texture_coord'] = [\n",
    "    (0.5, 0.0),   # textura para o vértice 0\n",
    "    (1.0, 1.0),   # textura para o vértice 1\n",
    "    (0.0, 1.0)    # textura para o vértice 2\n",
    "]\n",
    "\n",
    "vertices['color'] = [\n",
    "    (1.0, 0.0, 0.0, 1.0),  # vermelho para o vértice 0\n",
    "    (0.0, 1.0, 0.0, 1.0),  # verde para o vértice 1\n",
    "    (0.0, 1.0, 0.0, 1.0)   # verde para o vértice 2\n",
    "]"
   ]
  },
  {
   "cell_type": "markdown",
   "metadata": {},
   "source": [
    "### Preparando dados para enviar para a CPU"
   ]
  },
  {
   "cell_type": "markdown",
   "metadata": {},
   "source": [
    "As informações de vértices geralmente estão na CPU, mas queremos que elas vão para a GPU. Neste caso, usamos o código abaixo para criar três coordenaas para exibir três pontos em nosso programa."
   ]
  },
  {
   "cell_type": "code",
   "execution_count": null,
   "metadata": {},
   "outputs": [],
   "source": [
    "#Criando estrutura para receber 3 vértices com 2 coordenadas\n",
    "vertices = np.zeros(3, [(\"posic\", np.float32, 2)])\n",
    "\n",
    "#Criando os 3 vértices\n",
    "vertices['posic'] = [\n",
    "                            ( 0.0, 0.0), # vertice 0\n",
    "                            (+0.5,+0.5), # vertice 1\n",
    "                            (-0.5,-0.5)  # vertice 2\n",
    "                        ]"
   ]
  },
  {
   "cell_type": "code",
   "execution_count": null,
   "metadata": {},
   "outputs": [],
   "source": [
    "#Gerando 500 pontos aleatórios\n",
    "import random\n",
    "\n",
    "QTD_PONTOS = 500\n",
    "vertices = np.zeros(QTD_PONTOS, [(\"posic\", np.float32, 2)])\n",
    "\n",
    "pontos = []\n",
    "for i in range(0, QTD_PONTOS):\n",
    "    x = random.uniform(-1, 1)\n",
    "    y = random.uniform(-1, 1)\n",
    "    pontos.append((x,y))\n",
    "\n",
    "vertices['posic'] = pontos"
   ]
  },
  {
   "cell_type": "markdown",
   "metadata": {},
   "source": [
    "### Requisitando slot na GPU"
   ]
  },
  {
   "cell_type": "markdown",
   "metadata": {},
   "source": [
    "Para enviar nossos dados da CPU para a GPU, precisamos solicitar slot\n",
    "\n",
    "* `glGenBuffer(N)`: gera `N` identificadores para buffers de dados. Buffers de dados são usados para armazenar informações (vértices, texturas, etc.). Os identificadores gerados são usados para fazer referência aos buffers de dados na GPU. Depois de gerar o identificador,costuma-se preencher o buffer com os dados apropriados usando a função `glBufferData()`.\n",
    "* `glBindBuffer(GL_ARRAY_BUFFER, buffer)`:  informa ao OpenGL que, a partir desse ponto, todas as operações que envolvem buffers de array (`GL_ARRAY_BUFFER`), como preencher com dados, manipular atributos de vértices, etc., serão realizadas no buffer especificado pelo identificador `buffer`."
   ]
  },
  {
   "cell_type": "code",
   "execution_count": null,
   "metadata": {},
   "outputs": [],
   "source": [
    "buffer = glGenBuffers(1)\n",
    "glBindBuffer(GL_ARRAY_BUFFER, buffer)"
   ]
  },
  {
   "cell_type": "markdown",
   "metadata": {},
   "source": [
    "### Enviar conteúdo da variável vértice"
   ]
  },
  {
   "cell_type": "markdown",
   "metadata": {},
   "source": [
    "* `glBufferData(GL_ARRAY_BUFFER, vertices.nbytes, vertices, GL_DYNAMIC_DRAW)`: preenche o buffer na GPU com os dados `vertices`. `GL_ARRAY_BUFFER` indica que está trabalhando com um buffer de array. `vertices.nbytes` indica o tamanho em bytes dos dados está enviando para a GPU. `GL_DYNAMIC_DRAW`: indica que os dados serão frequentemente atualizados na GPU, indicando ao OpenGL que otimize o buffer para essa situação.\n",
    "\n",
    "Estudos sobre os parâmetros da função acessar [glBufferData](https://registry.khronos.org/OpenGL-Refpages/gl4/html/glBufferData.xhtml])."
   ]
  },
  {
   "cell_type": "code",
   "execution_count": null,
   "metadata": {},
   "outputs": [],
   "source": [
    "glBufferData(GL_ARRAY_BUFFER, vertices.nbytes, vertices, GL_DYNAMIC_DRAW)\n",
    "#Qual a necessidade de usa DE NOVO glBindBuffer?\n",
    "glBindBuffer(GL_ARRAY_BUFFER, buffer)"
   ]
  },
  {
   "cell_type": "markdown",
   "metadata": {},
   "source": [
    "### Associando variáveis do programa GLSL (Vertex Shader) com nossos dados"
   ]
  },
  {
   "cell_type": "markdown",
   "metadata": {},
   "source": [
    "Definimos byte inicial e offset dos dados\n",
    "* `numpy.ndarray.strides[0]`: número de bytes que você precisa avançar na memória para acessar o próximo elemento no array. Outros elementos da tupla `numpy.ndarray.strides` só existem se o ndarray for irregular (ex: imagens)\n",
    "\n",
    "Neste caso, como cada elemento de vertices é uma dupla de np.float32 (4 bytes), basta avançarmos 2x4 = 8bytes. Se fosse no exemplo hipotético dado no resumo de estruturas, seria 2x8 + 2x8 + 4x8 = 32 bytes\n",
    "\n",
    "* `ctypes.c_void_p(N)`: cria valor especial que representa um \"deslocamento N\" em bytes dentro de um buffer. Esse valor será usado mais tarde junto com a função `glVertexAttribPointer()` para dizer ao OpenGL onde encontrar as informações corretas para cada atributo dos vértices.\n",
    "* `ctypes`: módulo em Python que fornece facilidades para criar e manipular tipos de dados, funções, bibliotecas e ponteiros em C. Útil quando você precisa interagir com bibliotecas de linguagem C, como é o caso quando se trabalha com OpenGL"
   ]
  },
  {
   "cell_type": "code",
   "execution_count": null,
   "metadata": {},
   "outputs": [],
   "source": [
    "stride = vertices.strides[0]\n",
    "offset = ctypes.c_void_p(0)\n",
    "#print(vertices.strides[0])"
   ]
  },
  {
   "cell_type": "markdown",
   "metadata": {},
   "source": [
    "Solicitamos à GPU a localização da variável \"position\" (que guarda coordenadas dos vértices criados) que definimos no Vertex Shader\n",
    "\n",
    "* `glGetAttribLocation(program, \"position\")`: retorna o índice (localização) do atributo de vértice `position` dentro do programa de shader. A localização é um número inteiro que identifica a posição do atributo dentro do shader.\n",
    "* `glEnableVertexAttribArray(loc)`: No contexto da renderização gráfica com OpenGL, os vértices de um objeto podem ter vários atributos, como posição, cor, coordenadas de textura, entre outros. Para que o OpenGL saiba como usar esses atributos durante a renderização, você precisa habilitar os atributos que deseja usar. Esta função diz que o atributo de vértice referente a essa localização seja considerado e usado durante o processo de renderização."
   ]
  },
  {
   "cell_type": "code",
   "execution_count": null,
   "metadata": {},
   "outputs": [],
   "source": [
    "loc = glGetAttribLocation(program, \"position\")\n",
    "#Dúvida: vou ter que habilitar sempre que for adicionar informações sobre o ponto?\n",
    "glEnableVertexAttribArray(loc)"
   ]
  },
  {
   "cell_type": "markdown",
   "metadata": {},
   "source": [
    "Sabemos onde, na GPU, está o conteúdo que a variável position vai processar\n",
    "\n",
    " * `glVertexAttribPointer(loc, 2, GL_FLOAT, False, stride, offset)`: informa ao OpenGL como acessar e interpretar os dados dos atributos de vértices no buffer, permitindo que eles sejam corretamente passados para os shaders durante a renderização.\n",
    "    * `loc`: índice do atributo de vértice que você está configurando\n",
    "    * `2`: número de componentes para cada atributo de vértice. Neste caso, (x,y).\n",
    "    * `GL_FLOAT`: tipo de dado dos componentes do atributo de vértice\n",
    "    * `False`: indica se os valores devem ser normalizados\n",
    "    * `stride`: espaçamento em bytes entre os dados de vértices consecutivos no buffer\n",
    "    * `offset`: deslocamento em bytes do início do buffer onde começam os dados do atributo. Isso é usado para especificar onde exatamente os dados desse atributo estão armazenados dentro do buffer.\n",
    "\n",
    "Mais detalhes em [glVertexAttribPointer()](https://registry.khronos.org/OpenGL-Refpages/gl4/html/glVertexAttribPointer.xhtml)"
   ]
  },
  {
   "cell_type": "code",
   "execution_count": null,
   "metadata": {},
   "outputs": [],
   "source": [
    "glVertexAttribPointer(loc, 2, GL_FLOAT, False, stride, offset)"
   ]
  },
  {
   "cell_type": "markdown",
   "metadata": {},
   "source": [
    "### Exibe a janela"
   ]
  },
  {
   "cell_type": "code",
   "execution_count": null,
   "metadata": {},
   "outputs": [],
   "source": [
    "glfw.show_window(window)"
   ]
  },
  {
   "cell_type": "markdown",
   "metadata": {},
   "source": [
    "### Loop principal"
   ]
  },
  {
   "cell_type": "markdown",
   "metadata": {},
   "source": [
    "Novidade é glDrawArrays()\n",
    "* `glDrawArrays(GL_POINTS, 0, 3)`: renderiza primitivas gráficas (como pontos, linhas ou triângulos) com base nos dados armazenados nos buffers de vértices. \n",
    "    * `GL_POINTS`: especifica o tipo de primitiva para renderizar\n",
    "    * `0`: índice do primeiro vértice para renderizar\n",
    "    * `3`: número de vértices que você deseja renderizar\n",
    "\n",
    "\n",
    "Os pontos são processados primeiros e as primitivas logo depois, mas como o resultado é armazenado no buffer o qual será trocado na função `glfw.swap_buffers()`, o resultado final é exibido junto."
   ]
  },
  {
   "cell_type": "code",
   "execution_count": null,
   "metadata": {},
   "outputs": [],
   "source": [
    "while not glfw.window_should_close(window):\n",
    "    glfw.poll_events()\n",
    "\n",
    "    glClear(GL_COLOR_BUFFER_BIT)\n",
    "    glClearColor(1.0,1.0,1.0,1.0)\n",
    "\n",
    "    glDrawArrays(GL_POINTS, 0 , QTD_PONTOS)\n",
    "\n",
    "    glfw.swap_buffers(window)\n",
    "\n",
    "glfw.terminate()"
   ]
  }
 ],
 "metadata": {
  "kernelspec": {
   "display_name": "Python 3",
   "language": "python",
   "name": "python3"
  },
  "language_info": {
   "codemirror_mode": {
    "name": "ipython",
    "version": 3
   },
   "file_extension": ".py",
   "mimetype": "text/x-python",
   "name": "python",
   "nbconvert_exporter": "python",
   "pygments_lexer": "ipython3",
   "version": "3.10.11"
  },
  "orig_nbformat": 4
 },
 "nbformat": 4,
 "nbformat_minor": 2
}
