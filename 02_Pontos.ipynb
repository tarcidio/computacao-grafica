{
 "cells": [
  {
   "cell_type": "markdown",
   "metadata": {},
   "source": [
    "# Código 02: Pontos"
   ]
  },
  {
   "cell_type": "markdown",
   "metadata": {},
   "source": [
    "### Bibliotecas"
   ]
  },
  {
   "cell_type": "code",
   "execution_count": null,
   "metadata": {},
   "outputs": [],
   "source": [
    "!pip install glfw\n",
    "import glfw\n",
    "!pip install pyopengl\n",
    "from OpenGL.GL import *\n",
    "import OpenGL.GL.shaders #Não é redundante?\n",
    "!pip install numpy\n",
    "import numpy as np"
   ]
  },
  {
   "cell_type": "markdown",
   "metadata": {},
   "source": [
    "### Inicializando janela"
   ]
  },
  {
   "cell_type": "code",
   "execution_count": null,
   "metadata": {},
   "outputs": [],
   "source": [
    "glfw.init()\n",
    "glfw.window_hit(glfw.VISIBLE, glfw.FALSE)\n",
    "window = glfw.create_window(720, 600, \"Pontos\", None, None)\n",
    "glfw.make_context_current(window)"
   ]
  },
  {
   "cell_type": "markdown",
   "metadata": {},
   "source": [
    "### Eventos do teclado e mouse"
   ]
  },
  {
   "cell_type": "code",
   "execution_count": null,
   "metadata": {},
   "outputs": [],
   "source": [
    "def key_event(window, key, scancode, action, mods):\n",
    "    print('[key event] key=',key)\n",
    "    print('[key event] scancode=',scancode)\n",
    "    print('[key event] action=',action)\n",
    "    print('[key event] mods=',mods)\n",
    "    print('-------')\n",
    "\n",
    "glfw.set_key_callback(window, key_event)\n",
    "\n",
    "def mouse_event(window, button, action, mods):\n",
    "    print('[mouse event] button=',button)\n",
    "    print('[mouse event] action=',action)\n",
    "    print('[mouse event] mods=',mods)\n",
    "    print('-------')\n",
    "\n",
    "glfw.set_mouse_button_callback(window, mouse_event)"
   ]
  },
  {
   "cell_type": "markdown",
   "metadata": {},
   "source": [
    "### GLSL"
   ]
  },
  {
   "cell_type": "markdown",
   "metadata": {},
   "source": [
    "* \"OpenGL Shading Language\" (GLSF): linguagem de programação utilizada para escrever shaders (pequenos programas que são executados na placa de vídeo (GPU) para controlar aspectos específicos da renderização gráfica)\n",
    "* Armazenamos o código em uma string (ou lendo arquivo de texto) o qual será compilado pelo código futuramente\n",
    "* Usaremos GLSL antiga para ser compatível com os dispositivos"
   ]
  },
  {
   "cell_type": "markdown",
   "metadata": {},
   "source": [
    "### GLSL para Vertex Shader"
   ]
  },
  {
   "cell_type": "markdown",
   "metadata": {},
   "source": [
    "Código a seguir é responsável por processar cada vértice do objeto 2D. O código é útil para transformar as posições antes que sejam renderizadas na tela.\n",
    "\n",
    "* `attribute vec2 position`: declara um atributo chamado `position` que contém um vetor bidimensional de coordenadas (vec2). Esse atributo será preenchido posteriormente com os dados de posição dos vértices. Em GLSL, atributo é uma variável especial usada para passar dados dos vértices dos objetos para shaders\n",
    "* `void main(){}`: declara a função principal do Vertex Shader\n",
    "* `gl_Position = vec4(position, 0.0, 1.0);`: declara a variável global `gl_Position`. Armazena a posição transformada de um vértice. AS três primeiras cordenadas do vetor de quatro elementos é a dimensão (x,y,z). O último componente (componente homogêneo) é usado para normalização"
   ]
  },
  {
   "cell_type": "code",
   "execution_count": null,
   "metadata": {},
   "outputs": [],
   "source": [
    "vertex_code = \"\"\"\n",
    "    atributte vec2 position;\n",
    "    void main(){\n",
    "        gl_Position = vec4(position, 0.0, 1.0);\n",
    "    }\n",
    "\"\"\""
   ]
  },
  {
   "cell_type": "markdown",
   "metadata": {},
   "source": [
    "### GLSL para Fragment Shader"
   ]
  },
  {
   "cell_type": "markdown",
   "metadata": {},
   "source": [
    "Fragment Shader é responsável por determinar a cor de cada fragmento (pixel) na tela após o processo de rasterização.\n",
    "* `void(main){}`: declara a função principal do Fragment Shader\n",
    "* `gl_FragColor`: variável global especial que representa a cor do fragmento atual.\n",
    "* `vec4(0.0, 0.0, 0.0, 1.0)`: vetor de quatro componentes (RGBA) que representa uma cor preta totalmente opaca. Os três primeiros componentes (0.0, 0.0, 0.0) representam a intensidade de vermelho, verde e azul (preto não possui cor). O último componente (1.0) representa a opacidade total."
   ]
  },
  {
   "cell_type": "code",
   "execution_count": null,
   "metadata": {},
   "outputs": [],
   "source": [
    "fragment_code = \"\"\"\n",
    "    void main(){\n",
    "        gl_FragColor = vec4(0.0,0.0,0.0,1.0);\n",
    "    }\n",
    "\"\"\""
   ]
  },
  {
   "cell_type": "markdown",
   "metadata": {},
   "source": [
    "### Requisitando slot para a GPU para nossos programas Vertex e Fragment Shader"
   ]
  },
  {
   "cell_type": "markdown",
   "metadata": {},
   "source": [
    "O SO armazena um espaço do código dos nossos programas automaticamente. Porém, como estamos criando um programa dentro de outro, precisamos solicitar um espaço manualmente.\n",
    "\n",
    "* `glCreateProgram()`: cria um objeto programa vazio. Um objeto programa o qual objetos shaders podem ser anexados\n",
    "* `glCreateShader()`: cria um objeto shader vazio. Um objeto shader é usado para manter o codigo fonte que define o shader"
   ]
  },
  {
   "cell_type": "code",
   "execution_count": null,
   "metadata": {},
   "outputs": [],
   "source": [
    "program = glCreateProgram()\n",
    "vertex = glCreateShader(GL_VERTEX_SHADER)\n",
    "fragment = glCreateShader(GL_FRAGMENT_SHADER)"
   ]
  },
  {
   "cell_type": "markdown",
   "metadata": {},
   "source": [
    "### Associando os códigos fontes aos slots"
   ]
  },
  {
   "cell_type": "markdown",
   "metadata": {},
   "source": [
    "* `glShaderSource()`: seta o código fonte no objeto shader. Qualquer código anteriormente armazenado no objeto Shader é sobrescrito"
   ]
  },
  {
   "cell_type": "code",
   "execution_count": null,
   "metadata": {},
   "outputs": [],
   "source": [
    "glShaderSource(vertex, vertex_code)\n",
    "glShaderSource(fragment, fragment_code)"
   ]
  },
  {
   "cell_type": "markdown",
   "metadata": {},
   "source": [
    "### Compilando o Vertex Shader"
   ]
  },
  {
   "cell_type": "markdown",
   "metadata": {},
   "source": [
    "* `glCompileShader()`: compila o código fonte que estiver armazenado no objeto shader. O status da compilação será armazenado no objeto shader.\n",
    "* `glGetShaderiv()`: retorna um parametro, especificado via argumento, de um objeto shader\n",
    "* `glGetShaderInfoLog()`: retorna informação de log de um objeto shader"
   ]
  },
  {
   "cell_type": "code",
   "execution_count": null,
   "metadata": {},
   "outputs": [],
   "source": [
    "glCompileShader(vertex)\n",
    "if not glGetShaderiv(vertex, GL_COMPILE_STATUS):\n",
    "    error = glGetShaderInfoLog(vertex).decode()\n",
    "    print(error)\n",
    "    raise RuntimeError(\"Erro de compilacao do Vertex Shader\")"
   ]
  },
  {
   "cell_type": "markdown",
   "metadata": {},
   "source": [
    "### Compilando o Fragment Shader"
   ]
  },
  {
   "cell_type": "code",
   "execution_count": null,
   "metadata": {},
   "outputs": [],
   "source": [
    "glCompileShader(fragment)\n",
    "if not glGetShaderiv(fragment, GL_COMPILE_STATUS):\n",
    "    error = glGetShaderInfoLog(fragment).decode()\n",
    "    print(error)\n",
    "    raise RuntimeError(\"Erro de compilação do Fragment Shader\")"
   ]
  },
  {
   "cell_type": "markdown",
   "metadata": {},
   "source": [
    "### Associando programas compilados ao programa principal"
   ]
  },
  {
   "cell_type": "code",
   "execution_count": null,
   "metadata": {},
   "outputs": [],
   "source": [
    "#Anexa um objeto shader em um objeto programa\n",
    "glAttachShader(program, vertex)\n",
    "glAttachShader(program, fragment)"
   ]
  },
  {
   "cell_type": "markdown",
   "metadata": {},
   "source": [
    "### Linkagem do programa\n",
    "\n",
    "* Combinar os arquivos objeto de um programa em um único arquivo executável."
   ]
  },
  {
   "cell_type": "markdown",
   "metadata": {},
   "source": [
    "* `glLinkProgram()`: existindo algum objeto shader anexado ao objeto programa, a função irá criar um executável que será rodado no processador destinado a cada shader\n",
    "* `glUseProgram()`: executa o programa como parte do estado de renderização atual"
   ]
  },
  {
   "cell_type": "code",
   "execution_count": null,
   "metadata": {},
   "outputs": [],
   "source": [
    "glLinkPorgram(program)\n",
    "if not glGetProgramiv(program, GL_LINK_STATUS):\n",
    "    print(glGetProgramInfoLog(program))\n",
    "    raise RuntimeError(\"Link error\")\n",
    "\n",
    "glUseProgram(program)"
   ]
  },
  {
   "cell_type": "markdown",
   "metadata": {},
   "source": []
  },
  {
   "cell_type": "code",
   "execution_count": null,
   "metadata": {},
   "outputs": [],
   "source": []
  }
 ],
 "metadata": {
  "kernelspec": {
   "display_name": "Python 3",
   "language": "python",
   "name": "python3"
  },
  "language_info": {
   "codemirror_mode": {
    "name": "ipython",
    "version": 3
   },
   "file_extension": ".py",
   "mimetype": "text/x-python",
   "name": "python",
   "nbconvert_exporter": "python",
   "pygments_lexer": "ipython3",
   "version": "3.9.13"
  },
  "orig_nbformat": 4
 },
 "nbformat": 4,
 "nbformat_minor": 2
}
