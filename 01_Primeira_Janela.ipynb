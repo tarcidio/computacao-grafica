{
  "cells": [
    {
      "cell_type": "markdown",
      "metadata": {
        "id": "dLh7GV4mFjGl"
      },
      "source": [
        "# Código 01 : Primeira Janela"
      ]
    },
    {
      "cell_type": "markdown",
      "metadata": {},
      "source": [
        "**Pipeline gráfico**\n",
        "\n",
        "**1) Entrada de Vértices (Vertex Input)**: vértices (pontos) do objeto 3D a ser renderizado são fornecidos como entrada para a pipeline.\n",
        "\n",
        "**2) Transformações Geométricas (Vertex Shader)**: vértices são transformados do espaço do modelo para o espaço do mundo, levando em consideração rotações, translações e escalas. Ou seja, posiciona o objeto no mundo.\n",
        "\n",
        "**3) Câmera (View Transform)**: vértices são transformados para o espaço da câmera ou observador usando a matriz de visualização (view matrix).\n",
        "\n",
        "**4) Projeção (Projection)**: converte as coordenadas 3D para coordenadas 2D, levando em consideração a perspectiva da câmera\n",
        "\n",
        "**5) Recorte (Clipping**): vértices que estão fora da visão da câmera são descartados.\n",
        "\n",
        "6) Rasterização: vértices transformados são convertidos em fragmentos (unidades de processamento mínimas), que correspondem a pixels na tela. Linhas ou triângulos formados pelos vértices são divididos em fragmentos.\n",
        "\n",
        "**7) Operações com Fragmentos (Fragment Shader)**: fragmentos podem ser atribuídas cores com base em cálculos complexos, texturas ou iluminação.\n",
        "\n",
        "**8) Teste de Profundidade (Depth Testing)**: fragmentos são comparados com o buffer de profundidade para determinar quais fragmentos estão mais próximos da câmera. Apenas os fragmentos mais próximos são mantidos, enquanto os outros são descartados\n",
        "\n",
        "**9) Saída para o Frame Buffer**: fragmentos processados são combinados com o conteúdo existente do frame buffer. O frame buffer é uma área de memória que representa a imagem final a ser exibida na tela."
      ]
    },
    {
      "cell_type": "markdown",
      "metadata": {
        "id": "Q_EMJhDtFpZr"
      },
      "source": [
        "**[\"Graphics Library Framework\" (GLFW):](https://www.glfw.org/docs/latest/window_guide.html)** biblioteca de código aberto (open-source) que fornece uma interface simples e portável para criação de janelas, contextos de OpenGL e gerenciamento de entrada\n",
        "\n",
        "\n",
        "**Shaders:** pequenos programas escritos em uma linguagem especializada (como GLSL - OpenGL Shading Language) que são executados nas unidades de processamento gráfico (GPUs) para realizar cálculos relacionados \n",
        "\n",
        "à renderização de gráficos\n",
        "\n",
        "**Rasterizar**: ransforma objetos gráficos definidos por equações matemáticas em pixels individuais que compõem uma imagem na tela ou em um arquivo de imagem\n",
        "\n",
        "**Renderização**:  criar uma imagem final ou sequência de imagens a partir de um modelo tridimensional (3D) ou de dados tridimensionais\n",
        "\n",
        "**Renderização VS Rasterização**: renderização cria imagens finais realistas a partir de modelos 3D, enquanto a rasterização é a conversão de objetos gráficos em pixels para exibição ou impressão. \n",
        "\n",
        "**Pipeline**:\n",
        "* Inicializa sistema de janela GLFW\n",
        "* Esconde sistema, cria janela e a torna principal\n",
        "* Captura eventos de teclado e mouse\n",
        "* Exibe a janela\n",
        "* Loop principal"
      ]
    },
    {
      "cell_type": "markdown",
      "metadata": {
        "id": "3lY0WCfkF_x8"
      },
      "source": [
        "### Bibliotecas"
      ]
    },
    {
      "cell_type": "code",
      "execution_count": null,
      "metadata": {
        "colab": {
          "base_uri": "https://localhost:8080/"
        },
        "id": "zi-qtYrtGFjL",
        "outputId": "193a43ee-fd04-45f7-9de9-07a0024921f7"
      },
      "outputs": [],
      "source": [
        "#Bibliotecas\n",
        "try:\n",
        "    import glfw\n",
        "    from OpenGL.GL import *\n",
        "    import numpy as np\n",
        "except ImportError:\n",
        "    !pip install glfw\n",
        "    !pip install pyopengl\n",
        "    !pip install numpy\n",
        "    import glfw\n",
        "    from OpenGL.GL import *\n",
        "    import numpy as np"
      ]
    },
    {
      "cell_type": "markdown",
      "metadata": {
        "id": "5VnfxTu9Gw_N"
      },
      "source": [
        "### Inicializando o sistema de janela GLFW"
      ]
    },
    {
      "cell_type": "code",
      "execution_count": null,
      "metadata": {
        "colab": {
          "base_uri": "https://localhost:8080/"
        },
        "id": "y-LHLp21GxD9",
        "outputId": "c7bbc57e-2c81-4a5b-b521-182cc47b4249"
      },
      "outputs": [],
      "source": [
        "glfw.init()"
      ]
    },
    {
      "cell_type": "markdown",
      "metadata": {
        "id": "VsicYBasHDbe"
      },
      "source": [
        "### Criando janela\n",
        "\n",
        "* `glfw.window_hint(glfw.VISIBLE, glfw.FALSE)`: esconde janelas\n",
        "* `glfw.create_window(WIDTH, HEIGHT, TITLE, FULL_SCREEN, MONITOR)`: cria janela\n",
        "* `glfw.make_context_current(window)`: determina qual janela é a principal no momento"
      ]
    },
    {
      "cell_type": "code",
      "execution_count": null,
      "metadata": {
        "colab": {
          "base_uri": "https://localhost:8080/"
        },
        "id": "PvC936jcHDjM",
        "outputId": "35ba9ef9-6ff3-490b-a774-c2722c50e2e2"
      },
      "outputs": [],
      "source": [
        "glfw.window_hint(glfw.VISIBLE, glfw.FALSE)\n",
        "window = glfw.create_window(720, 600, \"Primeira Janela\", None, None)\n",
        "glfw.make_context_current(window)"
      ]
    },
    {
      "cell_type": "markdown",
      "metadata": {
        "id": "wHWZtxPwKz_O"
      },
      "source": [
        "### Capturar eventos do teclado"
      ]
    },
    {
      "cell_type": "markdown",
      "metadata": {
        "id": "RfxgNysJK0OG"
      },
      "source": [
        "* `key_event(window,key,scancode,action,mods)`: função genérica para execução de evento. `KEY`: valor númerico da tecla do evento. `SCANCODE` é o id universal da tecla do evento. `ACTION` é `glfw.PRESS` (pressionado) ou `glfw.REALESE` (liberado). `MODS` são os modificadores do comando ('Ctrl', 'Alt', 'Shift', etc)\n",
        "\n",
        "\n",
        "* `glfw.set_key_callback(window,key_event)`: registra função key_event como retorno para um evento"
      ]
    },
    {
      "cell_type": "code",
      "execution_count": null,
      "metadata": {
        "id": "gIby23PMIEfO"
      },
      "outputs": [],
      "source": [
        "def key_event(window,key,scancode,action,mods):\n",
        "    print('[key event] key=',key)\n",
        "    print('[key event] scancode=',scancode)\n",
        "    print('[key event] action=',action)\n",
        "    print('[key event] mods=',mods)\n",
        "    print('-------')\n",
        "\n",
        "glfw.set_key_callback(window,key_event)"
      ]
    },
    {
      "cell_type": "markdown",
      "metadata": {
        "id": "SFTIHAz7MCHO"
      },
      "source": [
        "### Capturar eventos do mouse"
      ]
    },
    {
      "cell_type": "markdown",
      "metadata": {
        "id": "PjchHIBgMTDn"
      },
      "source": [
        "* `glfw.set_mouse_button_callback(window,mouse_event)`: registra evento mouse_event como retorno para um evento de mouse"
      ]
    },
    {
      "cell_type": "code",
      "execution_count": null,
      "metadata": {
        "id": "Kq_hlQMGMCS_"
      },
      "outputs": [],
      "source": [
        "def mouse_event(window,button,action,mods):\n",
        "    print('[mouse event] button=',button)\n",
        "    print('[mouse event] action=',action)\n",
        "    print('[mouse event] mods=',mods)\n",
        "    print('-------')\n",
        "glfw.set_mouse_button_callback(window,mouse_event)"
      ]
    },
    {
      "cell_type": "markdown",
      "metadata": {
        "id": "zREo34hlMbvX"
      },
      "source": [
        "### Exibir janela"
      ]
    },
    {
      "cell_type": "markdown",
      "metadata": {
        "id": "Ee68WdkiMtS1"
      },
      "source": [
        "* `glfw.show_window(window)`: torna visível e imprime a tela"
      ]
    },
    {
      "cell_type": "code",
      "execution_count": null,
      "metadata": {
        "id": "Frj6Q_JuMcvH"
      },
      "outputs": [],
      "source": [
        "glfw.show_window(window)"
      ]
    },
    {
      "cell_type": "markdown",
      "metadata": {},
      "source": [
        "### Loop principal da janela"
      ]
    },
    {
      "cell_type": "markdown",
      "metadata": {},
      "source": [
        "Enquanto a janela não for fechada, este loop será executado\n",
        "\n",
        "* `glfw.window_should_close(window)`: verifica se a janela deve ser fechada\n",
        "* `glClear(GL_COLOR_BUFFER_BIT)`: limpa buffer. No caso, o relativo a cor (GL_COLOR_BUFFER_BIT)\n",
        "* `glClearColor(R,G,B,1.0)`: define cor de fundo\n",
        "* `glfw.swap_buffers(window)`: gerencia a troca de conteúdo entre buffer de desenho e de exibição \n",
        "\n",
        "Buffer de Desenho: onde todas as operações de desenho e renderização ocorrem. Você desenha objetos, cenas e imagens nesse buffer.\n",
        "\n",
        "Buffer de Exibição: o que está atualmente sendo mostrado na tela. É o resultado da renderização no buffer de desenho.\n"
      ]
    },
    {
      "cell_type": "code",
      "execution_count": null,
      "metadata": {},
      "outputs": [],
      "source": [
        "import time\n",
        "\n",
        "R = 1.0\n",
        "G = 1.0\n",
        "B = 1.0\n",
        "\n",
        "while not glfw.window_should_close(window):\n",
        "\n",
        "    #Função interna: gerencia eventos pendentes da fila de eventos\n",
        "    glfw.poll_events()\n",
        "\n",
        "    #Códigos OpenGL:\n",
        "\n",
        "    if R > 0.0:\n",
        "        R -= 0.01\n",
        "        G -= 0.01\n",
        "        B -= 0.01\n",
        "        time.sleep(0.10)\n",
        "    else:\n",
        "        time.sleep(2)\n",
        "        break\n",
        "        \n",
        "    #Limpa a cor de fundo da janela e preenche com outra no sistema RGB\n",
        "    glClear(GL_COLOR_BUFFER_BIT)\n",
        "\n",
        "    #Defini cor da tela\n",
        "    glClearColor(R,G,B,1.0)\n",
        "\n",
        "    #Gerencia troca de dados entre janela e OpenGL\n",
        "    glfw.swap_buffers(window)"
      ]
    },
    {
      "cell_type": "markdown",
      "metadata": {},
      "source": [
        "### Finaliza sistema de janela GLFW"
      ]
    },
    {
      "cell_type": "code",
      "execution_count": null,
      "metadata": {},
      "outputs": [],
      "source": [
        "glfw.terminate()"
      ]
    }
  ],
  "metadata": {
    "colab": {
      "provenance": []
    },
    "kernelspec": {
      "display_name": "Python 3",
      "name": "python3"
    },
    "language_info": {
      "codemirror_mode": {
        "name": "ipython",
        "version": 3
      },
      "file_extension": ".py",
      "mimetype": "text/x-python",
      "name": "python",
      "nbconvert_exporter": "python",
      "pygments_lexer": "ipython3",
      "version": "3.10.11"
    }
  },
  "nbformat": 4,
  "nbformat_minor": 0
}
