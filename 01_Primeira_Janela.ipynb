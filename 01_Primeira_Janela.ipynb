{
  "cells": [
    {
      "cell_type": "markdown",
      "metadata": {
        "id": "dLh7GV4mFjGl"
      },
      "source": [
        "# Código 01 : Primeira Janela"
      ]
    },
    {
      "cell_type": "markdown",
      "metadata": {
        "id": "Q_EMJhDtFpZr"
      },
      "source": [
        "**[\"Graphics Library Framework\" (GLFW):](https://www.glfw.org/docs/latest/window_guide.html)** biblioteca de código aberto (open-source) que fornece uma interface simples e portável para criação de janelas, contextos de OpenGL e gerenciamento de entrada\n",
        "\n",
        "\n",
        "**Shaders:** pequenos programas escritos em uma linguagem especializada (como GLSL - OpenGL Shading Language) que são executados nas unidades de processamento gráfico (GPUs) para realizar cálculos relacionados à renderização de gráficos"
      ]
    },
    {
      "cell_type": "markdown",
      "metadata": {
        "id": "3lY0WCfkF_x8"
      },
      "source": [
        "### Bibliotecas"
      ]
    },
    {
      "cell_type": "code",
      "execution_count": 17,
      "metadata": {
        "colab": {
          "base_uri": "https://localhost:8080/"
        },
        "id": "zi-qtYrtGFjL",
        "outputId": "193a43ee-fd04-45f7-9de9-07a0024921f7"
      },
      "outputs": [
        {
          "name": "stdout",
          "output_type": "stream",
          "text": [
            "Defaulting to user installation because normal site-packages is not writeable\n",
            "Requirement already satisfied: glfw in c:\\users\\10748347\\appdata\\roaming\\python\\python39\\site-packages (2.6.2)\n",
            "Defaulting to user installation because normal site-packages is not writeable\n",
            "Requirement already satisfied: pyopengl in c:\\users\\10748347\\appdata\\roaming\\python\\python39\\site-packages (3.1.7)\n",
            "Defaulting to user installation because normal site-packages is not writeable\n",
            "Requirement already satisfied: numpy in c:\\users\\10748347\\appdata\\roaming\\python\\python39\\site-packages (1.25.2)\n"
          ]
        }
      ],
      "source": [
        "!pip install glfw\n",
        "import glfw\n",
        "!pip install pyopengl\n",
        "from OpenGL.GL import *\n",
        "import OpenGL.GL.shaders #Não é redundante?\n",
        "!pip install numpy\n",
        "import numpy as np"
      ]
    },
    {
      "cell_type": "markdown",
      "metadata": {
        "id": "5VnfxTu9Gw_N"
      },
      "source": [
        "### Inicializando o sistema de janela GLFW"
      ]
    },
    {
      "cell_type": "code",
      "execution_count": 18,
      "metadata": {
        "colab": {
          "base_uri": "https://localhost:8080/"
        },
        "id": "y-LHLp21GxD9",
        "outputId": "c7bbc57e-2c81-4a5b-b521-182cc47b4249"
      },
      "outputs": [
        {
          "data": {
            "text/plain": [
              "1"
            ]
          },
          "execution_count": 18,
          "metadata": {},
          "output_type": "execute_result"
        }
      ],
      "source": [
        "glfw.init()"
      ]
    },
    {
      "cell_type": "markdown",
      "metadata": {
        "id": "VsicYBasHDbe"
      },
      "source": [
        "### Criando janela\n",
        "\n",
        "* `glfw.window_hint(glfw.VISIBLE, glfw.FALSE)`: esconde janelas\n",
        "* `glfw.create_window(WIDTH, HEIGHT, TITLE, FULL_SCREEN, MONITOR)`: cria janela\n",
        "* `glfw.make_context_current(window)`: determina qual janela é a principal no momento"
      ]
    },
    {
      "cell_type": "code",
      "execution_count": 19,
      "metadata": {
        "colab": {
          "base_uri": "https://localhost:8080/"
        },
        "id": "PvC936jcHDjM",
        "outputId": "35ba9ef9-6ff3-490b-a774-c2722c50e2e2"
      },
      "outputs": [],
      "source": [
        "glfw.window_hint(glfw.VISIBLE, glfw.FALSE)\n",
        "window = glfw.create_window(720, 600, \"Primeira Janela\", None, None)\n",
        "glfw.make_context_current(window)"
      ]
    },
    {
      "cell_type": "markdown",
      "metadata": {
        "id": "wHWZtxPwKz_O"
      },
      "source": [
        "### Capturar eventos do teclado"
      ]
    },
    {
      "cell_type": "markdown",
      "metadata": {
        "id": "RfxgNysJK0OG"
      },
      "source": [
        "* `key_event(window,key,scancode,action,mods)`: função genérica para execução de evento. `KEY`: valor númerico da tecla do evento. `SCANCODE` é o id universal da tecla do evento. `ACTION` é `glfw.PRESS` (pressionado) ou `glfw.REALESE` (liberado). `MODS` são os modificadores do comando ('Ctrl', 'Alt', 'Shift', etc)\n",
        "\n",
        "\n",
        "* `glfw.set_key_callback(window,key_event)`: registra função key_event como retorno para um evento"
      ]
    },
    {
      "cell_type": "code",
      "execution_count": 20,
      "metadata": {
        "id": "gIby23PMIEfO"
      },
      "outputs": [],
      "source": [
        "def key_event(window,key,scancode,action,mods):\n",
        "    print('[key event] key=',key)\n",
        "    print('[key event] scancode=',scancode)\n",
        "    print('[key event] action=',action)\n",
        "    print('[key event] mods=',mods)\n",
        "    print('-------')\n",
        "\n",
        "glfw.set_key_callback(window,key_event)"
      ]
    },
    {
      "cell_type": "markdown",
      "metadata": {
        "id": "SFTIHAz7MCHO"
      },
      "source": [
        "### Capturar eventos do mouse"
      ]
    },
    {
      "cell_type": "markdown",
      "metadata": {
        "id": "PjchHIBgMTDn"
      },
      "source": [
        "* `glfw.set_mouse_button_callback(window,mouse_event)`: registra evento mouse_event como retorno para um evento de mouse"
      ]
    },
    {
      "cell_type": "code",
      "execution_count": 21,
      "metadata": {
        "id": "Kq_hlQMGMCS_"
      },
      "outputs": [],
      "source": [
        "def mouse_event(window,button,action,mods):\n",
        "    print('[mouse event] button=',button)\n",
        "    print('[mouse event] action=',action)\n",
        "    print('[mouse event] mods=',mods)\n",
        "    print('-------')\n",
        "glfw.set_mouse_button_callback(window,mouse_event)"
      ]
    },
    {
      "cell_type": "markdown",
      "metadata": {
        "id": "zREo34hlMbvX"
      },
      "source": [
        "### Exibir janela"
      ]
    },
    {
      "cell_type": "markdown",
      "metadata": {
        "id": "Ee68WdkiMtS1"
      },
      "source": [
        "* `glfw.show_window(window)`: torna visível e imprime a tela"
      ]
    },
    {
      "cell_type": "code",
      "execution_count": 22,
      "metadata": {
        "id": "Frj6Q_JuMcvH"
      },
      "outputs": [],
      "source": [
        "glfw.show_window(window)"
      ]
    },
    {
      "cell_type": "markdown",
      "metadata": {},
      "source": [
        "### Loop principal da janela"
      ]
    },
    {
      "cell_type": "markdown",
      "metadata": {},
      "source": [
        "Enquanto a janela não for fechada, este loop será executado\n",
        "\n",
        "* `glfw.window_should_close(window)`: verifica se a janela deve ser fechada\n",
        "* `glClear(GL_COLOR_BUFFER_BIT)`: limpa buffer. No caso, o relativo a cor (GL_COLOCAR_BUFFER_BIT)\n",
        "* `glClearColor(R,G,B,1.0)`: define cor de fundo\n",
        "* `glfw.swap_buffers(window)`: gerencia a troca de conteúdo entre buffer de desenho e de exibição \n",
        "\n",
        "Buffer de Desenho: onde todas as operações de desenho e renderização ocorrem. Você desenha objetos, cenas e imagens nesse buffer.\n",
        "\n",
        "Buffer de Exibição: o que está atualmente sendo mostrado na tela. É o resultado da renderização no buffer de desenho.\n"
      ]
    },
    {
      "cell_type": "code",
      "execution_count": 23,
      "metadata": {},
      "outputs": [],
      "source": [
        "import time\n",
        "\n",
        "R = 1.0\n",
        "G = 1.0\n",
        "B = 1.0\n",
        "\n",
        "while not glfw.window_should_close(window):\n",
        "\n",
        "    #Função interna: gerencia eventos pendentes da fila de eventos\n",
        "    glfw.poll_events()\n",
        "\n",
        "    #Códigos OpenGL:\n",
        "\n",
        "    if R > 0.0:\n",
        "        R -= 0.01\n",
        "        G -= 0.01\n",
        "        B -= 0.01\n",
        "        time.sleep(0.10)\n",
        "    else:\n",
        "        time.sleep(2)\n",
        "        break\n",
        "        \n",
        "    #Limpa a cor de fundo da janela e preenche com outra no sistema RGB\n",
        "    glClear(GL_COLOR_BUFFER_BIT)\n",
        "\n",
        "    #Defini cor da tela\n",
        "    glClearColor(R,G,B,1.0)\n",
        "\n",
        "    #Gerencia troca de dados entre janela e OpenGL\n",
        "    glfw.swap_buffers(window)"
      ]
    },
    {
      "cell_type": "markdown",
      "metadata": {},
      "source": [
        "### Finaliza sistema de janela GLFW"
      ]
    },
    {
      "cell_type": "code",
      "execution_count": 24,
      "metadata": {},
      "outputs": [],
      "source": [
        "glfw.terminate()"
      ]
    }
  ],
  "metadata": {
    "colab": {
      "provenance": []
    },
    "kernelspec": {
      "display_name": "Python 3",
      "name": "python3"
    },
    "language_info": {
      "codemirror_mode": {
        "name": "ipython",
        "version": 3
      },
      "file_extension": ".py",
      "mimetype": "text/x-python",
      "name": "python",
      "nbconvert_exporter": "python",
      "pygments_lexer": "ipython3",
      "version": "3.9.13"
    }
  },
  "nbformat": 4,
  "nbformat_minor": 0
}
