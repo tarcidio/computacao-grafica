{
 "cells": [
  {
   "cell_type": "markdown",
   "metadata": {},
   "source": [
    "# Aula 09.Ex01 - Malhas e Texturas - Mapeamento de Texturas"
   ]
  },
  {
   "cell_type": "markdown",
   "metadata": {},
   "source": [
    "### Primeiro, vamos importar as bibliotecas necessárias.\n",
    "Verifique no código anterior um script para instalar as dependências necessárias (OpenGL e GLFW) antes de prosseguir."
   ]
  },
  {
   "cell_type": "code",
   "execution_count": null,
   "metadata": {},
   "outputs": [],
   "source": [
    "import glfw\n",
    "from OpenGL.GL import *\n",
    "import OpenGL.GL.shaders\n",
    "import numpy as np\n",
    "!pip install glm\n",
    "!pip install pillow\n",
    "import glm\n",
    "import math\n",
    "from PIL import Image"
   ]
  },
  {
   "cell_type": "markdown",
   "metadata": {},
   "source": [
    "### Inicializando janela"
   ]
  },
  {
   "cell_type": "code",
   "execution_count": null,
   "metadata": {},
   "outputs": [],
   "source": [
    "glfw.init()\n",
    "glfw.window_hint(glfw.VISIBLE, glfw.FALSE);\n",
    "altura = 1600\n",
    "largura = 1200\n",
    "window = glfw.create_window(largura, altura, \"Malhas e Texturas\", None, None)\n",
    "glfw.make_context_current(window)"
   ]
  },
  {
   "cell_type": "markdown",
   "metadata": {},
   "source": [
    "### GLSL (OpenGL Shading Language)\n",
    "\n",
    "Aqui veremos nosso primeiro código GLSL.\n",
    "\n",
    "É uma linguagem de shading de alto nível baseada na linguagem de programação C.\n",
    "\n",
    "Nós estamos escrevendo código GLSL como se \"strings\" de uma variável (mas podemos ler de arquivos texto). Esse código, depois, terá que ser compilado e linkado ao nosso programa. \n",
    "\n",
    "Iremos aprender GLSL conforme a necessidade do curso. Usarmos uma versão do GLSL mais antiga, compatível com muitos dispositivos."
   ]
  },
  {
   "cell_type": "markdown",
   "metadata": {},
   "source": [
    "### GLSL para Vertex Shader\n",
    "\n",
    "No Pipeline programável, podemos interagir com Vertex Shaders.\n",
    "\n",
    "No código abaixo, estamos fazendo o seguinte:\n",
    "\n",
    "* Definindo uma variável chamada position do tipo vec3.\n",
    "* Definindo matrizes Model, View e Projection que acumulam transformações geométricas 3D e permitem navegação no cenário.\n",
    "* void main() é o ponto de entrada do nosso programa (função principal)\n",
    "* gl_Position é uma variável especial do GLSL. Variáveis que começam com 'gl_' são desse tipo. Nesse caso, determina a posição de um vértice. Observe que todo vértice tem 4 coordenadas, por isso nós combinamos nossa variável vec2 com uma variável vec4. Além disso, nós modificamos nosso vetor com base nas transformações Model, View e Projection."
   ]
  },
  {
   "cell_type": "code",
   "execution_count": null,
   "metadata": {},
   "outputs": [],
   "source": [
    "vertex_code = \"\"\"\n",
    "        attribute vec3 position;\n",
    "        attribute vec2 texture_coord;\n",
    "        varying vec2 out_texture;\n",
    "                \n",
    "        uniform mat4 mat_transform;        \n",
    "        \n",
    "        void main(){\n",
    "            gl_Position = mat_transform * vec4(position,1.0);\n",
    "            out_texture = vec2(texture_coord);\n",
    "        }\n",
    "        \"\"\""
   ]
  },
  {
   "cell_type": "markdown",
   "metadata": {},
   "source": [
    "### GLSL para Fragment Shader\n",
    "\n",
    "No Pipeline programável, podemos interagir com Fragment Shaders.\n",
    "\n",
    "No código abaixo, estamos fazendo o seguinte:\n",
    "\n",
    "* void main() é o ponto de entrada do nosso programa (função principal)\n",
    "* gl_FragColor é uma variável especial do GLSL. Variáveis que começam com 'gl_' são desse tipo. Nesse caso, determina a cor de um fragmento. Nesse caso é um ponto, mas poderia ser outro objeto (ponto, linha, triangulos, etc)."
   ]
  },
  {
   "cell_type": "markdown",
   "metadata": {},
   "source": [
    "### Possibilitando modificar a cor.\n",
    "\n",
    "Nos exemplos anteriores, a variável gl_FragColor estava definida de forma fixa (com cor R=0, G=0, B=0).\n",
    "\n",
    "Agora, nós vamos criar uma variável do tipo \"uniform\", de quatro posições (vec4), para receber o dado de cor do nosso programa rodando em CPU."
   ]
  },
  {
   "cell_type": "code",
   "execution_count": null,
   "metadata": {},
   "outputs": [],
   "source": [
    "fragment_code = \"\"\"\n",
    "        uniform vec4 color;\n",
    "        varying vec2 out_texture;\n",
    "        uniform sampler2D samplerTexture;\n",
    "        \n",
    "        void main(){\n",
    "            vec4 texture = texture2D(samplerTexture, out_texture);\n",
    "            gl_FragColor = texture;\n",
    "        }\n",
    "        \"\"\""
   ]
  },
  {
   "cell_type": "markdown",
   "metadata": {},
   "source": [
    "### Requisitando slot para a GPU para nossos programas Vertex e Fragment Shaders"
   ]
  },
  {
   "cell_type": "code",
   "execution_count": null,
   "metadata": {},
   "outputs": [],
   "source": [
    "# Request a program and shader slots from GPU\n",
    "program  = glCreateProgram()\n",
    "vertex   = glCreateShader(GL_VERTEX_SHADER)\n",
    "fragment = glCreateShader(GL_FRAGMENT_SHADER)\n"
   ]
  },
  {
   "cell_type": "markdown",
   "metadata": {},
   "source": [
    "### Associando nosso código-fonte aos slots solicitados"
   ]
  },
  {
   "cell_type": "code",
   "execution_count": null,
   "metadata": {},
   "outputs": [],
   "source": [
    "# Set shaders source\n",
    "glShaderSource(vertex, vertex_code)\n",
    "glShaderSource(fragment, fragment_code)"
   ]
  },
  {
   "cell_type": "markdown",
   "metadata": {},
   "source": [
    "### Compilando o Vertex Shader\n",
    "\n",
    "Se há algum erro em nosso programa Vertex Shader, nosso app para por aqui."
   ]
  },
  {
   "cell_type": "code",
   "execution_count": null,
   "metadata": {},
   "outputs": [],
   "source": [
    "# Compile shaders\n",
    "glCompileShader(vertex)\n",
    "if not glGetShaderiv(vertex, GL_COMPILE_STATUS):\n",
    "    error = glGetShaderInfoLog(vertex).decode()\n",
    "    print(error)\n",
    "    raise RuntimeError(\"Erro de compilacao do Vertex Shader\")\n"
   ]
  },
  {
   "cell_type": "markdown",
   "metadata": {},
   "source": [
    "### Compilando o Fragment Shader\n",
    "\n",
    "Se há algum erro em nosso programa Fragment Shader, nosso app para por aqui."
   ]
  },
  {
   "cell_type": "code",
   "execution_count": null,
   "metadata": {},
   "outputs": [],
   "source": [
    "glCompileShader(fragment)\n",
    "if not glGetShaderiv(fragment, GL_COMPILE_STATUS):\n",
    "    error = glGetShaderInfoLog(fragment).decode()\n",
    "    print(error)\n",
    "    raise RuntimeError(\"Erro de compilacao do Fragment Shader\")"
   ]
  },
  {
   "cell_type": "markdown",
   "metadata": {},
   "source": [
    "### Associando os programas compilado ao programa principal"
   ]
  },
  {
   "cell_type": "code",
   "execution_count": null,
   "metadata": {},
   "outputs": [],
   "source": [
    "# Attach shader objects to the program\n",
    "glAttachShader(program, vertex)\n",
    "glAttachShader(program, fragment)\n"
   ]
  },
  {
   "cell_type": "markdown",
   "metadata": {},
   "source": [
    "### Linkagem do programa"
   ]
  },
  {
   "cell_type": "code",
   "execution_count": null,
   "metadata": {},
   "outputs": [],
   "source": [
    "# Build program\n",
    "glLinkProgram(program)\n",
    "if not glGetProgramiv(program, GL_LINK_STATUS):\n",
    "    print(glGetProgramInfoLog(program))\n",
    "    raise RuntimeError('Linking error')\n",
    "    \n",
    "# Make program the default program\n",
    "glUseProgram(program)"
   ]
  },
  {
   "cell_type": "markdown",
   "metadata": {},
   "source": [
    "### Preparando dados para enviar a GPU\n",
    "\n",
    "Nesse momento, nós compilamos nossos Vertex e Program Shaders para que a GPU possa processá-los.\n",
    "\n",
    "Por outro lado, as informações de vértices geralmente estão na CPU e devem ser transmitidas para a GPU.\n"
   ]
  },
  {
   "cell_type": "markdown",
   "metadata": {},
   "source": [
    "### Carregando Modelos (vértices e texturas) a partir de Arquivos\n",
    "\n",
    "* Arquivo do tipo [Wavefront](https://en.wikipedia.org/wiki/Wavefront_.obj_file): possuem informações para representação de objetos 3D como posição dos vértices de malha e textura. A seguir, a explicação, em ordem de uso dentro do arquivo, do que é cada item\n",
    "    * `v`: vértices\n",
    "    * `vt`: vértices de textura\n",
    "    * `vn`: vértices normal (para iluminação e sombreamento)\n",
    "    * `vp`: vértices paramétricos (para superfícies continuas e específicas - não usamos)\n",
    "    * `f`: representa a função de como construir o polígono\n",
    "        * `a/b/c`: `a` é a posição do vértice, `b` posição do vértice textura e `c` informação sobre iluminação"
   ]
  },
  {
   "cell_type": "code",
   "execution_count": null,
   "metadata": {},
   "outputs": [],
   "source": [
    "# Função: carrega o arquivo Wavefront\n",
    "# Entrada: nome do arquivo\n",
    "# Saida: estrutura que armazena o elemento (vertices, textura e faces)\n",
    "def load_model_from_file(filename):\n",
    "    vertices = []\n",
    "    texture_coords = []\n",
    "    faces = []\n",
    "\n",
    "    material = None\n",
    "\n",
    "    # Abre o arquivo obj (wavefront) para leitura\n",
    "    for line in open(filename, \"r\"): ## para cada linha do arquivo .obj\n",
    "        # Se for comentário, ignore esta linha e use a próxima\n",
    "        if line.startswith('#'): continue\n",
    "\n",
    "        # Quebra a linha por espaço\n",
    "        values = line.split()\n",
    "        # Se não há informações na linha, ignore esta linha e use a próxima\n",
    "        if not values: continue\n",
    "\n",
    "        # Recupera as informações\n",
    "        ### Armazena coordenadas dos vertices do elemento no vetor vertices\n",
    "        if values[0] == 'v':\n",
    "            vertices.append(values[1:4])\n",
    "        ### Armazena coordenadas das texturas no vetor texture_coords\n",
    "        elif values[0] == 'vt':\n",
    "            texture_coords.append(values[1:3])\n",
    "        ### recuperando faces \n",
    "        elif values[0] in ('usemtl', 'usemat'):\n",
    "            material = values[1]\n",
    "        ### Armazena informações sobre a construção das faces\n",
    "        elif values[0] == 'f':\n",
    "            face = []\n",
    "            face_texture = []\n",
    "            # Para cada elemento da linha que define a função\n",
    "            for bloco in values[1:]:\n",
    "                # Separa o elemento em vetor de elementos separando os números que são separados por /\n",
    "                positions = bloco.split('/')\n",
    "                # Adiciona o primeiro número na face (que representa o número da linha que encontra-se um vértice para da figura)\n",
    "                face.append(int(positions[0]))\n",
    "                # Se o vetor com elementos separados por / for maior ou igual que dois\n",
    "                # Se o segundo número do elemento for maior do que zero\n",
    "                if len(positions) >= 2 and len(positions[1]) > 0:\n",
    "                    # Adicione o segundo número na face de textura (que representa o número da linha que encontra-se um vértice de textura da figura)\n",
    "                    face_texture.append(int(positions[1]))\n",
    "                else:\n",
    "                    # Se não for maior ou igual a dois ou não for maior que zero, coloque zero na textura\n",
    "                    face_texture.append(0)\n",
    "            # Após conseguir, provavelmente, os três valores para face, os três valores para textura e o tipo de material, insira na faces\n",
    "            faces.append((face, face_texture, material))\n",
    "\n",
    "    model = {}\n",
    "    model['vertices'] = vertices\n",
    "    model['texture'] = texture_coords\n",
    "    model['faces'] = faces\n",
    "\n",
    "    return model"
   ]
  },
  {
   "cell_type": "markdown",
   "metadata": {},
   "source": [
    "### Não entendi essa parte do código"
   ]
  },
  {
   "cell_type": "code",
   "execution_count": null,
   "metadata": {},
   "outputs": [],
   "source": [
    "glEnable(GL_TEXTURE_2D)\n",
    "qtd_texturas = 10\n",
    "textures = glGenTextures(qtd_texturas)\n",
    "\n",
    "def load_texture_from_file(texture_id, img_textura):\n",
    "    glBindTexture(GL_TEXTURE_2D, texture_id)\n",
    "    glTexParameteri(GL_TEXTURE_2D, GL_TEXTURE_WRAP_S, GL_REPEAT)\n",
    "    glTexParameteri(GL_TEXTURE_2D, GL_TEXTURE_WRAP_T, GL_REPEAT)\n",
    "    glTexParameteri(GL_TEXTURE_2D, GL_TEXTURE_MIN_FILTER, GL_LINEAR)\n",
    "    glTexParameteri(GL_TEXTURE_2D, GL_TEXTURE_MAG_FILTER, GL_LINEAR)\n",
    "    img = Image.open(img_textura)\n",
    "    img_width = img.size[0]\n",
    "    img_height = img.size[1]\n",
    "    image_data = img.tobytes(\"raw\", \"RGB\", 0, -1)\n",
    "    #image_data = np.array(list(img.getdata()), np.uint8)\n",
    "    glTexImage2D(GL_TEXTURE_2D, 0, GL_RGB, img_width, img_height, 0, GL_RGB, GL_UNSIGNED_BYTE, image_data)"
   ]
  },
  {
   "cell_type": "markdown",
   "metadata": {},
   "source": [
    "### Vamos carregar cada modelo e definir funções para desenhá-los"
   ]
  },
  {
   "cell_type": "code",
   "execution_count": null,
   "metadata": {},
   "outputs": [],
   "source": [
    "CAIXA_PATH : str = 'caixa/caixa.obj'\n",
    "modelo = load_model_from_file(CAIXA_PATH)\n",
    "\n",
    "### Coletando vetor de vertices e textura\n",
    "\n",
    "def get_vertices_textures(model):\n",
    "    vertices_list = []    \n",
    "    textures_coord_list = []\n",
    "    # Para cada um das faces (num_line(v), num_line(vt), material)\n",
    "    for face in model['faces']:\n",
    "        # Para cada um dos números que representa a linha do vértice\n",
    "        for vertice_id in face[0]: # Pega o valor a coordenada do vértice\n",
    "            vertices_list.append( model['vertices'][vertice_id-1] )\n",
    "        # Para cada um dos números que representa a linha da coordenada da textura\n",
    "        for texture_id in face[1]:  # Pega o valor a coordenada da textura\n",
    "            textures_coord_list.append( model['texture'][texture_id-1] )\n",
    "    return vertices_list, textures_coord_list\n",
    "\n",
    "vertices_list, textures_coord_list = get_vertices_textures(modelo)"
   ]
  },
  {
   "cell_type": "code",
   "execution_count": null,
   "metadata": {},
   "outputs": [],
   "source": [
    "\n",
    "### carregando textura equivalente e definindo um id (buffer): use um id por textura!\n",
    "load_texture_from_file(0,'caixa/caixa2.jpg')\n"
   ]
  },
  {
   "cell_type": "code",
   "execution_count": null,
   "metadata": {},
   "outputs": [],
   "source": [
    "# modelo = load_model_from_file('terreno/terreno2.obj')\n",
    "\n",
    "# ### inserindo vertices do modelo no vetor de vertices\n",
    "# print('Processando modelo terreno.obj. Vertice inicial:',len(vertices_list))\n",
    "# for face in modelo['faces']:\n",
    "#     for vertice_id in face[0]:\n",
    "#         vertices_list.append( modelo['vertices'][vertice_id-1] )\n",
    "#     for texture_id in face[1]:\n",
    "#         textures_coord_list.append( modelo['texture'][texture_id-1] )\n",
    "# print('Processando modelo terreno.obj. Vertice final:',len(vertices_list))\n",
    "\n",
    "# ### inserindo coordenadas de textura do modelo no vetor de texturas\n",
    "\n",
    "\n",
    "# ### carregando textura equivalente e definindo um id (buffer): use um id por textura!\n",
    "# load_texture_from_file(1,'terreno/pedra.jpg')\n"
   ]
  },
  {
   "cell_type": "code",
   "execution_count": null,
   "metadata": {},
   "outputs": [],
   "source": [
    "# modelo = load_model_from_file('casa/casa.obj')\n",
    "\n",
    "# ### inserindo vertices do modelo no vetor de vertices\n",
    "# print('Processando modelo casa.obj. Vertice inicial:',len(vertices_list))\n",
    "# for face in modelo['faces']:\n",
    "#     for vertice_id in face[0]:\n",
    "#         vertices_list.append( modelo['vertices'][vertice_id-1] )\n",
    "#     for texture_id in face[1]:\n",
    "#         textures_coord_list.append( modelo['texture'][texture_id-1] )\n",
    "# print('Processando modelo casa.obj. Vertice final:',len(vertices_list))\n",
    "\n",
    "# ### inserindo coordenadas de textura do modelo no vetor de texturas\n",
    "\n",
    "\n",
    "# ### carregando textura equivalente e definindo um id (buffer): use um id por textura!\n",
    "# load_texture_from_file(1,'casa/casa.jpg')\n"
   ]
  },
  {
   "cell_type": "code",
   "execution_count": null,
   "metadata": {},
   "outputs": [],
   "source": [
    "# modelo = load_model_from_file('monstro/monstro.obj')\n",
    "\n",
    "# ### inserindo vertices do modelo no vetor de vertices\n",
    "# print('Processando modelo monstro.obj. Vertice inicial:',len(vertices_list))\n",
    "# for face in modelo['faces']:\n",
    "#     for vertice_id in face[0]:\n",
    "#         vertices_list.append( modelo['vertices'][vertice_id-1] )\n",
    "#     for texture_id in face[1]:\n",
    "#         textures_coord_list.append( modelo['texture'][texture_id-1] )\n",
    "# print('Processando modelo monstro.obj. Vertice final:',len(vertices_list))\n",
    "\n",
    "# ### inserindo coordenadas de textura do modelo no vetor de texturas\n",
    "\n",
    "\n",
    "# ### carregando textura equivalente e definindo um id (buffer): use um id por textura!\n",
    "# load_texture_from_file(3,'monstro/monstro.jpg')\n"
   ]
  },
  {
   "cell_type": "markdown",
   "metadata": {},
   "source": [
    "### Para enviar nossos dados da CPU para a GPU, precisamos requisitar slots.\n",
    "\n",
    "Nós agora vamos requisitar dois slots.\n",
    "* Um para enviar coordenadas dos vértices.\n",
    "* Outros para enviar coordenadas de texturas."
   ]
  },
  {
   "cell_type": "code",
   "execution_count": null,
   "metadata": {},
   "outputs": [],
   "source": [
    "# Request a buffer slot from GPU\n",
    "buffer = glGenBuffers(2)"
   ]
  },
  {
   "cell_type": "markdown",
   "metadata": {},
   "source": [
    "###  Enviando coordenadas de vértices para a GPU"
   ]
  },
  {
   "cell_type": "markdown",
   "metadata": {},
   "source": [
    "* Vale ressaltar que na função `glBufferdata`, estamos usando o argumento `GL_STATIC_DRAW` e não `GL_DYNAMIC_DRAW`.\n",
    "    * `GL_STATIC_DRAW`: otimiza quando os dados do buffer não vão ficar mudando constantemente\n",
    "    * `GL_DYNAMIC_DRAW`: otimiza quando os dados do buffer vão ficar mudando constantemente"
   ]
  },
  {
   "cell_type": "code",
   "execution_count": null,
   "metadata": {},
   "outputs": [],
   "source": [
    "#Finaliza a modelagem dos dados de vértices\n",
    "vertices = np.zeros(len(vertices_list), [(\"position\", np.float32, 3)])\n",
    "vertices['position'] = vertices_list\n",
    "\n",
    "#Tornando o buffer o buffer padrão de dados\n",
    "glBindBuffer(GL_ARRAY_BUFFER, buffer[0])\n",
    "#Subindo os dados de vértice para o buffer na GPU\n",
    "glBufferData(GL_ARRAY_BUFFER, vertices.nbytes, vertices, GL_STATIC_DRAW)\n",
    "#Encontrando informações de stride e offset dos vértices\n",
    "stride = vertices.strides[0]\n",
    "offset = ctypes.c_void_p(0)\n",
    "#Capturando posição do atributo \"position\" e habilitando\n",
    "loc_vertices = glGetAttribLocation(program, \"position\")\n",
    "glEnableVertexAttribArray(loc_vertices)\n",
    "#Linkando dados ao atributo \"position\"\n",
    "glVertexAttribPointer(loc_vertices, 3, GL_FLOAT, False, stride, offset)\n"
   ]
  },
  {
   "cell_type": "markdown",
   "metadata": {},
   "source": [
    "###  Enviando coordenadas de textura para a GPU"
   ]
  },
  {
   "cell_type": "code",
   "execution_count": null,
   "metadata": {},
   "outputs": [],
   "source": [
    "#Finaliza a modelagem dos dados de texturas\n",
    "textures = np.zeros(len(textures_coord_list), [(\"position\", np.float32, 2)])\n",
    "textures['position'] = textures_coord_list\n",
    "\n",
    "#Tornando o buffer o buffer padrão de dados\n",
    "glBindBuffer(GL_ARRAY_BUFFER, buffer[1])\n",
    "#Subindo os dados de textura para o buffer na GPU\n",
    "glBufferData(GL_ARRAY_BUFFER, textures.nbytes, textures, GL_STATIC_DRAW)\n",
    "#Encontrando informações de stride e offset das texturas\n",
    "stride = textures.strides[0]\n",
    "offset = ctypes.c_void_p(0)\n",
    "#Capturando posição do atributo \"texture_coord\" e habilitando\n",
    "loc_texture_coord = glGetAttribLocation(program, \"texture_coord\")\n",
    "glEnableVertexAttribArray(loc_texture_coord)\n",
    "#Linkando dados ao atributo \"texture_coord\"\n",
    "glVertexAttribPointer(loc_texture_coord, 2, GL_FLOAT, False, stride, offset)"
   ]
  },
  {
   "cell_type": "markdown",
   "metadata": {},
   "source": [
    "### Desenhando nossos modelos\n",
    "* Cada modelo tem um Model para posicioná-los no mundo.\n",
    "* É necessário saber qual a posição inicial e total de vértices de cada modelo\n",
    "* É necessário indicar qual o ID da textura do modelo\n",
    "\n",
    "* PAREI AQUI\n"
   ]
  },
  {
   "cell_type": "code",
   "execution_count": null,
   "metadata": {},
   "outputs": [],
   "source": [
    "def desenha_caixa():\n",
    "    #define id da textura do modelo\n",
    "    glBindTexture(GL_TEXTURE_2D, 0)\n",
    "    # desenha o modelo\n",
    "    glDrawArrays(GL_TRIANGLES, 0, 36) ## renderizando"
   ]
  },
  {
   "cell_type": "code",
   "execution_count": null,
   "metadata": {},
   "outputs": [],
   "source": [
    "# def desenha_terreno():\n",
    "#     # aplica a matriz model\n",
    "#     # rotacao\n",
    "#     angle = 0.0;\n",
    "#     r_x = 0.0; r_y = 0.0; r_z = 1.0;\n",
    "#     # translacao\n",
    "#     t_x = 0.0; t_y = -1.01; t_z = 0.0;\n",
    "#     # escala\n",
    "#     s_x = 20.0; s_y = 20.0; s_z = 20.0;\n",
    "#     mat_model = model(angle, r_x, r_y, r_z, t_x, t_y, t_z, s_x, s_y, s_z)\n",
    "#     loc_model = glGetUniformLocation(program, \"model\")\n",
    "#     glUniformMatrix4fv(loc_model, 1, GL_TRUE, mat_model)\n",
    "#     #define id da textura do modelo\n",
    "#     glBindTexture(GL_TEXTURE_2D, 1)\n",
    "#     # desenha o modelo\n",
    "#     glDrawArrays(GL_TRIANGLES, 36, 42-36) ## renderizando"
   ]
  },
  {
   "cell_type": "code",
   "execution_count": null,
   "metadata": {},
   "outputs": [],
   "source": [
    "# def desenha_casa():\n",
    "#     #define id da textura do modelo\n",
    "#     glBindTexture(GL_TEXTURE_2D, 1)\n",
    "#     # desenha o modelo\n",
    "#     glDrawArrays(GL_TRIANGLES, 36, 1434) ## renderizando"
   ]
  },
  {
   "cell_type": "code",
   "execution_count": null,
   "metadata": {},
   "outputs": [],
   "source": [
    "# def desenha_monstro(rotacao_inc):\n",
    "#     #define id da textura do modelo\n",
    "#     glBindTexture(GL_TEXTURE_2D, 3)\n",
    "#     # desenha o modelo\n",
    "#     glDrawArrays(GL_TRIANGLES, 1476, 7584-1476) ## renderizando"
   ]
  },
  {
   "cell_type": "markdown",
   "metadata": {},
   "source": [
    "### Eventos para modificar a posição da câmera.\n",
    "\n",
    "* Usei as teclas A, S, D e W para movimentação no espaço tridimensional\n",
    "* Usei a posição do mouse para \"direcionar\" a câmera"
   ]
  },
  {
   "cell_type": "code",
   "execution_count": null,
   "metadata": {},
   "outputs": [],
   "source": [
    "polygonal_mode = False\n",
    "\n",
    "def key_event(window,key,scancode,action,mods):\n",
    "    global cameraPos, cameraFront, cameraUp, polygonal_mode\n",
    "    \n",
    "    cameraSpeed = 0.2\n",
    "    if key == 87 and (action==1 or action==2): # tecla W\n",
    "        cameraPos += cameraSpeed * cameraFront\n",
    "    \n",
    "    if key == 83 and (action==1 or action==2): # tecla S\n",
    "        cameraPos -= cameraSpeed * cameraFront\n",
    "    \n",
    "    if key == 65 and (action==1 or action==2): # tecla A\n",
    "        cameraPos -= glm.normalize(glm.cross(cameraFront, cameraUp)) * cameraSpeed\n",
    "        \n",
    "    if key == 68 and (action==1 or action==2): # tecla D\n",
    "        cameraPos += glm.normalize(glm.cross(cameraFront, cameraUp)) * cameraSpeed\n",
    "        \n",
    "    if key == 80 and action==1 and polygonal_mode==True:\n",
    "        polygonal_mode=False\n",
    "    else:\n",
    "        if key == 80 and action==1 and polygonal_mode==False:\n",
    "            polygonal_mode=True\n",
    "    \n",
    "glfw.set_key_callback(window,key_event)\n"
   ]
  },
  {
   "cell_type": "markdown",
   "metadata": {},
   "source": [
    "### Nesse momento, nós exibimos a janela!\n"
   ]
  },
  {
   "cell_type": "code",
   "execution_count": null,
   "metadata": {},
   "outputs": [],
   "source": [
    "glfw.show_window(window)"
   ]
  },
  {
   "cell_type": "markdown",
   "metadata": {},
   "source": [
    "### Loop principal da janela.\n",
    "Enquanto a janela não for fechada, esse laço será executado. É neste espaço que trabalhamos com algumas interações com a OpenGL."
   ]
  },
  {
   "cell_type": "code",
   "execution_count": null,
   "metadata": {},
   "outputs": [],
   "source": [
    "# Habilita 3D\n",
    "glEnable(GL_DEPTH_TEST)\n",
    "\n",
    "def multiplica_matriz(a,b):\n",
    "    m_a = a.reshape(4,4)\n",
    "    m_b = b.reshape(4,4)\n",
    "    m_c = np.dot(m_a,m_b)\n",
    "    c = m_c.reshape(1,16)\n",
    "    return c\n",
    "\n",
    "rotacao_inc = 0\n",
    "d = 0 \n",
    "while not glfw.window_should_close(window):\n",
    "\n",
    "    glfw.poll_events() \n",
    "    \n",
    "    d -= 0.001 # modifica o angulo de rotacao em cada iteracao\n",
    "    cos_d = math.cos(d)\n",
    "    sin_d = math.sin(d)\n",
    "    \n",
    "    glClear(GL_COLOR_BUFFER_BIT | GL_DEPTH_BUFFER_BIT)\n",
    "    glClearColor(1.0, 1.0, 1.0, 1.0)\n",
    "    \n",
    "    if polygonal_mode==True:\n",
    "        glPolygonMode(GL_FRONT_AND_BACK,GL_LINE)\n",
    "    if polygonal_mode==False:\n",
    "        glPolygonMode(GL_FRONT_AND_BACK,GL_FILL)\n",
    "    \n",
    "    \n",
    "    mat_rotation_z = np.array([     cos_d, -sin_d, 0.0, 0.0, \n",
    "                                    sin_d,  cos_d, 0.0, 0.0, \n",
    "                                    0.0,      0.0, 1.0, 0.0, \n",
    "                                    0.0,      0.0, 0.0, 1.0], np.float32)\n",
    "    \n",
    "    mat_rotation_x = np.array([     1.0,   0.0,    0.0, 0.0, \n",
    "                                    0.0, cos_d, -sin_d, 0.0, \n",
    "                                    0.0, sin_d,  cos_d, 0.0, \n",
    "                                    0.0,   0.0,    0.0, 1.0], np.float32)\n",
    "    \n",
    "    mat_rotation_y = np.array([     cos_d,  0.0, sin_d, 0.0, \n",
    "                                    0.0,    1.0,   0.0, 0.0, \n",
    "                                    -sin_d, 0.0, cos_d, 0.0, \n",
    "                                    0.0,    0.0,   0.0, 1.0], np.float32)\n",
    "    \n",
    "    mat_transform = multiplica_matriz(mat_rotation_z,mat_rotation_y)\n",
    "    mat_transform = multiplica_matriz(mat_rotation_x,mat_transform)\n",
    "    mat_scale       = np.array([    0.1, 0.0, 0.0, 0.0, \n",
    "                                    0.0, 0.1, 0.0, 0.0, \n",
    "                                    0.0, 0.0, 0.03, 0.0, \n",
    "                                    0.0, 0.0, 0.0, 1.0], np.float32)    \n",
    "    mat_transform = multiplica_matriz(mat_scale,mat_transform)\n",
    "\n",
    "    loc_mat_transform = glGetUniformLocation(program, \"mat_transform\")\n",
    "    glUniformMatrix4fv(loc_mat_transform, 1, GL_FALSE, mat_transform) \n",
    "\n",
    "    desenha_caixa()   \n",
    "#     desenha_terreno()\n",
    "#     desenha_casa()\n",
    "    \n",
    "#     rotacao_inc += 0.1\n",
    "#     desenha_monstro(rotacao_inc)\n",
    "  \n",
    "    glfw.swap_buffers(window)\n",
    "\n",
    "glfw.terminate()"
   ]
  },
  {
   "cell_type": "markdown",
   "metadata": {},
   "source": [
    "# Exercício\n",
    "\n",
    "* Adicione mais 2 modelos no cenário com suas respectivas texturas. Procure em repositórios abertos/gratuitos por modelos no formato Wavefront (extensão .obj). Verifique se o conteúdo das faces do modelo é baseado em triângulos. Verifique se o modelo acompanha alguma imagem (.jpg, png, etc) com a textura. Evite modelos compostos por múltiplos objetos/texturas.\n",
    "\n",
    "* Coloque um cubo para \"encapsular\" todo o seu cenário. A face inferior do cubo será seu terreno. A face superior será o céu. As faces laterais serão horizontes. Crie um único arquivo de textura (imagem png ou jpg) com todas as faces. No arquivo .obj do modelo, define as coordenadas de textura para cada triângulo."
   ]
  }
 ],
 "metadata": {
  "finalized": {
   "timestamp": 1589232864147,
   "trusted": true
  },
  "kernelspec": {
   "display_name": "Python 3",
   "language": "python",
   "name": "python3"
  },
  "language_info": {
   "codemirror_mode": {
    "name": "ipython",
    "version": 3
   },
   "file_extension": ".py",
   "mimetype": "text/x-python",
   "name": "python",
   "nbconvert_exporter": "python",
   "pygments_lexer": "ipython3",
   "version": "3.11.6"
  }
 },
 "nbformat": 4,
 "nbformat_minor": 2
}
