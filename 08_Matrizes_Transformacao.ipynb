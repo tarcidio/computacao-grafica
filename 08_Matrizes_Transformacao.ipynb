{
 "cells": [
  {
   "cell_type": "markdown",
   "metadata": {},
   "source": [
    "# Código 08: Matrizes de translação, rotação e escala"
   ]
  },
  {
   "cell_type": "markdown",
   "metadata": {},
   "source": [
    "## Código pré loop principal"
   ]
  },
  {
   "cell_type": "markdown",
   "metadata": {},
   "source": [
    "### Inicialização do glfw e criação da janela"
   ]
  },
  {
   "cell_type": "code",
   "execution_count": 41,
   "metadata": {},
   "outputs": [
    {
     "name": "stdout",
     "output_type": "stream",
     "text": [
      "Requirement already satisfied: glfw in c:\\users\\10748347\\appdata\\local\\packages\\pythonsoftwarefoundation.python.3.11_qbz5n2kfra8p0\\localcache\\local-packages\\python311\\site-packages (2.6.2)\n",
      "Requirement already satisfied: pyopengl in c:\\users\\10748347\\appdata\\local\\packages\\pythonsoftwarefoundation.python.3.11_qbz5n2kfra8p0\\localcache\\local-packages\\python311\\site-packages (3.1.7)\n",
      "Requirement already satisfied: numpy in c:\\users\\10748347\\appdata\\local\\packages\\pythonsoftwarefoundation.python.3.11_qbz5n2kfra8p0\\localcache\\local-packages\\python311\\site-packages (1.26.0)\n"
     ]
    }
   ],
   "source": [
    "#Bibliotecas\n",
    "!pip install glfw\n",
    "import glfw\n",
    "!pip install pyopengl\n",
    "from OpenGL.GL import *\n",
    "import OpenGL.GL.shaders #Não é redundante?\n",
    "!pip install numpy\n",
    "import numpy as np\n",
    "import random\n",
    "\n",
    "#Sistema glfw\n",
    "glfw.init()\n",
    "glfw.window_hint(glfw.VISIBLE, glfw.FALSE)\n",
    "WIDTH : int = 800\n",
    "HEIGHT : int = 800\n",
    "window = glfw.create_window(WIDTH, HEIGHT, \"Transformação Geométrica\", None, None)\n",
    "glfw.make_context_current(window)"
   ]
  },
  {
   "cell_type": "markdown",
   "metadata": {},
   "source": [
    "### Shaders: Vertex e Fragment\n",
    "\n",
    "Criaremos um qualificador `uniform` para armazenar a matriz de transformação que será aplicado a todos os vértices. Também fazemos a matriz multiplicar a posição (vide teoria de matriz de transformação)"
   ]
  },
  {
   "cell_type": "code",
   "execution_count": 42,
   "metadata": {},
   "outputs": [],
   "source": [
    "#GLSL para Vertex Shader\n",
    "vertex_code = \"\"\"\n",
    "        attribute vec2 position;\n",
    "        uniform mat4 mat_transformation;\n",
    "        void main(){\n",
    "            gl_Position = mat_transformation * vec4(position,0.0,1.0);\n",
    "        }\n",
    "        \"\"\"\n",
    "\n",
    "#GLSL para Fragment Shader\n",
    "fragment_code = \"\"\"\n",
    "        uniform vec4 color;\n",
    "        void main(){\n",
    "            gl_FragColor = color;\n",
    "        }\n",
    "        \"\"\""
   ]
  },
  {
   "cell_type": "markdown",
   "metadata": {},
   "source": [
    "### Solicitando espaço, compilando e linkando"
   ]
  },
  {
   "cell_type": "code",
   "execution_count": 43,
   "metadata": {},
   "outputs": [],
   "source": [
    "#Requisitando slot para GPU\n",
    "program  = glCreateProgram()\n",
    "vertex   = glCreateShader(GL_VERTEX_SHADER)\n",
    "fragment = glCreateShader(GL_FRAGMENT_SHADER)\n",
    "\n",
    "#Associando os códigos aos espaços\n",
    "glShaderSource(vertex, vertex_code)\n",
    "glShaderSource(fragment, fragment_code)\n",
    "\n",
    "#Compilando shader de vértice\n",
    "glCompileShader(vertex)\n",
    "if not glGetShaderiv(vertex, GL_COMPILE_STATUS):\n",
    "    error = glGetShaderInfoLog(vertex).decode()\n",
    "    print(error)\n",
    "    raise RuntimeError(\"Erro de compilacao do Vertex Shader\")\n",
    "\n",
    "#Compilando shader de fragmento\n",
    "glCompileShader(fragment)\n",
    "if not glGetShaderiv(fragment, GL_COMPILE_STATUS):\n",
    "    error = glGetShaderInfoLog(fragment).decode()\n",
    "    print(error)\n",
    "    raise RuntimeError(\"Erro de compilacao do Fragment Shader\")\n",
    "\n",
    "#Associadno programas compilados ao programa principal\n",
    "glAttachShader(program, vertex)\n",
    "glAttachShader(program, fragment)\n",
    "\n",
    "#Linkagem do programa\n",
    "glLinkProgram(program)\n",
    "if not glGetProgramiv(program, GL_LINK_STATUS):\n",
    "    print(glGetProgramInfoLog(program))\n",
    "    raise RuntimeError('Linking error')\n",
    "    \n",
    "#Tornando programa o atual\n",
    "glUseProgram(program)"
   ]
  },
  {
   "cell_type": "markdown",
   "metadata": {},
   "source": [
    "### Criação dos vértices"
   ]
  },
  {
   "cell_type": "code",
   "execution_count": 44,
   "metadata": {},
   "outputs": [],
   "source": [
    "#Criando espaço\n",
    "vertices = np.zeros(3, [(\"position\", np.float32, 2)])\n",
    "\n",
    "#Preenchendo as coordenadas\n",
    "vertices['position'] = [\n",
    "                            ( 0.00, +0.05), \n",
    "                            (-0.05, -0.05), \n",
    "                            (+0.05, -0.05)\n",
    "]"
   ]
  },
  {
   "cell_type": "markdown",
   "metadata": {},
   "source": [
    "### Manipulação dos espaços de dados"
   ]
  },
  {
   "cell_type": "code",
   "execution_count": 45,
   "metadata": {},
   "outputs": [],
   "source": [
    "#Requisitando espaço de buffer para GPU\n",
    "buffer = glGenBuffers(1)\n",
    "#Tornando o buffer o buffer padrão de dados\n",
    "glBindBuffer(GL_ARRAY_BUFFER, buffer)\n",
    "#Subindo os dados de vértice para o buffer na GPU\n",
    "glBufferData(GL_ARRAY_BUFFER, vertices.nbytes, vertices, GL_DYNAMIC_DRAW)\n",
    "#glBindBuffer(GL_ARRAY_BUFFER, buffer)\n",
    "\n",
    "#Encontrando informações de stride e offset dos vértices\n",
    "stride = vertices.strides[0]\n",
    "offset = ctypes.c_void_p(0)\n",
    "#Capturando posição do atributo \"position\" e habilitando\n",
    "loc_position = glGetAttribLocation(program, \"position\")\n",
    "glEnableVertexAttribArray(loc_position)\n",
    "#Linkando dados ao atributo \"position\"\n",
    "glVertexAttribPointer(loc_position, 2, GL_FLOAT, False, stride, offset)"
   ]
  },
  {
   "cell_type": "markdown",
   "metadata": {},
   "source": [
    "### Capturando localização do qualificador `uniform` responsável pela cor e pela matriz de transformação"
   ]
  },
  {
   "cell_type": "code",
   "execution_count": 46,
   "metadata": {},
   "outputs": [],
   "source": [
    "loc_color = glGetUniformLocation(program, \"color\")\n",
    "loc_mat = glGetUniformLocation(program, \"mat_transformation\")"
   ]
  },
  {
   "cell_type": "markdown",
   "metadata": {},
   "source": [
    "### Eventos de teclado e mouse"
   ]
  },
  {
   "cell_type": "code",
   "execution_count": 47,
   "metadata": {},
   "outputs": [],
   "source": [
    "# Coordenadas do elemento\n",
    "t_x = t_y = 0\n",
    "\n",
    "# Coordenadas do cursor\n",
    "c_x = c_y = 0\n",
    "\n",
    "# Escala do elemento\n",
    "scale = 1.0\n",
    "\n",
    "# Rotação do elemento\n",
    "angle = 0.0\n",
    "\n",
    "# Cores\n",
    "R = G = B = random.uniform(0.5,1.0)\n",
    "\n",
    "def key_event(window,key,scancode,action,mods):\n",
    "    # Global: variáveis não estão sendo criadas como locais dentro da função\n",
    "        # mas sim referenciando as variáveis globais definidas fora da função.\n",
    "    global t_x, t_y, scale, angle, R, G, B\n",
    "    \n",
    "    linear_speed = 0.05\n",
    "    if key == 265: t_y += linear_speed #Seta p/cima\n",
    "    if key == 264: t_y -= linear_speed #Seta p/baixo\n",
    "    if key == 263: t_x -= linear_speed #Seta p/esquerda\n",
    "    if key == 262: t_x += linear_speed #Seta p/direita\n",
    "    \n",
    "    scale_speed = 0.2\n",
    "    if key == 65: scale += scale_speed #Tecla A\n",
    "    if key == 83: scale -= scale_speed #Tecla S\n",
    "    \n",
    "    angle_speed = 0.139 #radianos\n",
    "    if key == 68: angle += angle_speed #Tecla D\n",
    "    if key == 70: angle -= angle_speed #Tecla F\n",
    "\n",
    "    color_speed = 0.1\n",
    "    if mods == 1:\n",
    "        if key == 82: R += color_speed #Tecla R\n",
    "        if key == 71: G += color_speed #Tecla G\n",
    "        if key == 66: B += color_speed #Tecla B\n",
    "    else:\n",
    "        if key == 82: R -= color_speed #Tecla R\n",
    "        if key == 71: G -= color_speed #Tecla G\n",
    "        if key == 66: B -= color_speed #Tecla B\n",
    "\n",
    "    # print('[key event] key=',key)\n",
    "    # print('[key event] scancode=',scancode)\n",
    "    # print('[key event] action=',action)\n",
    "    # print('[key event] mods=',mods)\n",
    "    # print('-------')\n",
    "    \n",
    "glfw.set_key_callback(window, key_event)\n",
    "\n",
    "def mouse_event(window,button,action,mods):\n",
    "    global t_x, t_y, c_x, c_y\n",
    "    if button == 1: \n",
    "        t_x = c_x\n",
    "        t_y = c_y\n",
    "    # print('[mouse event] button=',button)\n",
    "    # print('[mouse event] action=',action)\n",
    "    # print('[mouse event] mods=',mods)\n",
    "    # print('-------')\n",
    "\n",
    "glfw.set_mouse_button_callback(window, mouse_event)\n",
    "\n",
    "def cursor_event(window, xpos, ypos):\n",
    "    global c_x, c_y\n",
    "    c_x = xpos*(2/WIDTH) - 1\n",
    "    c_y = 1 - ypos*(2/HEIGHT)\n",
    "    #print(f\"Posição do cursor: ({c_x}, {c_y})\")\n",
    "\n",
    "glfw.set_cursor_pos_callback(window, cursor_event)\n"
   ]
  },
  {
   "cell_type": "markdown",
   "metadata": {},
   "source": [
    "### Exibindo na tela"
   ]
  },
  {
   "cell_type": "code",
   "execution_count": 48,
   "metadata": {},
   "outputs": [],
   "source": [
    "glfw.show_window(window)"
   ]
  },
  {
   "cell_type": "markdown",
   "metadata": {},
   "source": [
    "## Loop principal\n",
    "\n",
    "* `glUniformMatrix4fv(loc_mat, 1, GL_TRUE, mat_transformation)`: função usada para alterar o conteúdo do qualificador `uniform` com localização `loc_mat`."
   ]
  },
  {
   "cell_type": "code",
   "execution_count": 49,
   "metadata": {},
   "outputs": [],
   "source": [
    "def calc_mat_transform(a,b,c):\n",
    "    m_a = a.reshape(4,4)\n",
    "    m_b = b.reshape(4,4)\n",
    "    m_c = c.reshape(4,4)\n",
    "    return np.dot(np.dot(m_a, m_b), m_c)\n",
    "\n",
    "def calc_angle_direction(c_x, c_y, t_x, t_y):\n",
    "    # Calcular a direção do objeto para o cursor\n",
    "    direction = np.array([c_x, c_y]) - np.array([t_x, t_y])\n",
    "    return np.arctan2(direction[1], direction[0])\n",
    "\n",
    "def calc_limits_coord(t_x, t_y):\n",
    "    BORDA_SUP : int = 1\n",
    "    BORDA_INF : int = -1\n",
    "    \n",
    "    if t_y >= BORDA_SUP:\n",
    "        t_y = BORDA_SUP\n",
    "    elif t_y <= BORDA_INF:\n",
    "        t_y = BORDA_INF\n",
    "\n",
    "    if t_x >= BORDA_SUP:\n",
    "        t_x = BORDA_SUP\n",
    "    elif t_x <= BORDA_INF:\n",
    "        t_x = BORDA_INF\n",
    "    \n",
    "    return t_x, t_y"
   ]
  },
  {
   "cell_type": "code",
   "execution_count": 50,
   "metadata": {},
   "outputs": [],
   "source": [
    "while not glfw.window_should_close(window):\n",
    "    glfw.poll_events()\n",
    "\n",
    "    # glPolygonMode(GL_FRONT,GL_LINE)\n",
    "    # glPolygonMode(GL_BACK,GL_LINE)\n",
    "    # glPolygonMode(GL_FRONT_AND_BACK,GL_LINE)\n",
    "    glClear(GL_COLOR_BUFFER_BIT)\n",
    "    glClearColor(1.0, 1.0, 1.0, 1.0)\n",
    "    \n",
    "    # Recalcula t_x e t_y caso ultrapassem a borda\n",
    "    t_x, t_y = calc_limits_coord(t_x,t_y)\n",
    "\n",
    "    # > Matriz de rotacao\n",
    "    angle = calc_angle_direction(c_x, c_y, t_x, t_y)\n",
    "    cos = np.cos(angle)\n",
    "    sin = np.sin(angle)\n",
    "    mat_rotation = np.array([  cos, -sin, 0.0, 0.0, \n",
    "                               sin,  cos, 0.0, 0.0, \n",
    "                               0.0,  0.0, 1.0, 0.0, \n",
    "                               0.0,  0.0, 0.0, 1.0], np.float32)\n",
    "    \n",
    "    # > Matriz de escala\n",
    "    # Declara variável scale_x e scale_y para serem aplicados a cada eixo\n",
    "    # Como queremos uma variação igual de escala no dos eixos, eles são iguais\n",
    "    scale_x = scale_y = scale\n",
    "    mat_scale =    np.array([  scale_x,     0.0, 0.0, 0.0, \n",
    "                                   0.0, scale_y, 0.0, 0.0, \n",
    "                                   0.0,     0.0, 1.0, 0.0, \n",
    "                                   0.0,     0.0, 0.0, 1.0], np.float32)\n",
    "    \n",
    "    # > Matriz de translação\n",
    "    mat_translation = np.array([  1.0, 0.0, 0.0, t_x, \n",
    "                                  0.0, 1.0, 0.0, t_y, \n",
    "                                  0.0, 0.0, 1.0, 0.0, \n",
    "                                  0.0, 0.0, 0.0, 1.0], np.float32)\n",
    "    \n",
    "    #> Cálculo da matriz de transformação\n",
    "    #É necessário colocar a matriz de rotação mais afastado do ponto na hora do cálculo\n",
    "    mat_transformation = calc_mat_transform(mat_translation, mat_rotation, mat_scale)\n",
    "    \n",
    "    #Aplica transformações, cores e rasteriza\n",
    "    glUniformMatrix4fv(loc_mat, 1, GL_TRUE, mat_transformation)\n",
    "    glUniform4f(loc_color, R, G, B, 1.0)\n",
    "    glDrawArrays(GL_TRIANGLES, 0, 3)\n",
    "\n",
    "    glfw.swap_buffers(window)\n",
    "\n",
    "glfw.terminate()\n",
    "\n",
    "#Adicionar mais de um elemnto (\"tiro\" circular)\n",
    "#Melhorar rotação com mouse"
   ]
  }
 ],
 "metadata": {
  "kernelspec": {
   "display_name": "Python 3",
   "language": "python",
   "name": "python3"
  },
  "language_info": {
   "codemirror_mode": {
    "name": "ipython",
    "version": 3
   },
   "file_extension": ".py",
   "mimetype": "text/x-python",
   "name": "python",
   "nbconvert_exporter": "python",
   "pygments_lexer": "ipython3",
   "version": "3.11.5"
  },
  "orig_nbformat": 4
 },
 "nbformat": 4,
 "nbformat_minor": 2
}
