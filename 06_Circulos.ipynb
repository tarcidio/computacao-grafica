{
 "cells": [
  {
   "cell_type": "markdown",
   "metadata": {},
   "source": [
    "# Código 06: Circulo"
   ]
  },
  {
   "cell_type": "markdown",
   "metadata": {},
   "source": [
    "Para formar o circulo, usaremos primitivas de triângulo. Para isso, usaremos em torno de 32 triângulos. As principais mudanças é na parte da elaboração do vetor de vértices."
   ]
  },
  {
   "cell_type": "markdown",
   "metadata": {},
   "source": [
    "## Código pré loop principal"
   ]
  },
  {
   "cell_type": "markdown",
   "metadata": {},
   "source": [
    "### Inicialização do glfw e criação da janela"
   ]
  },
  {
   "cell_type": "code",
   "execution_count": 1,
   "metadata": {},
   "outputs": [
    {
     "name": "stdout",
     "output_type": "stream",
     "text": [
      "Requirement already satisfied: glfw in c:\\users\\10748347\\appdata\\local\\packages\\pythonsoftwarefoundation.python.3.11_qbz5n2kfra8p0\\localcache\\local-packages\\python311\\site-packages (2.6.2)\n",
      "Requirement already satisfied: pyopengl in c:\\users\\10748347\\appdata\\local\\packages\\pythonsoftwarefoundation.python.3.11_qbz5n2kfra8p0\\localcache\\local-packages\\python311\\site-packages (3.1.7)\n",
      "Requirement already satisfied: numpy in c:\\users\\10748347\\appdata\\local\\packages\\pythonsoftwarefoundation.python.3.11_qbz5n2kfra8p0\\localcache\\local-packages\\python311\\site-packages (1.26.0)\n"
     ]
    }
   ],
   "source": [
    "#Bibliotecas\n",
    "!pip install glfw\n",
    "import glfw\n",
    "!pip install pyopengl\n",
    "from OpenGL.GL import *\n",
    "import OpenGL.GL.shaders #Não é redundante?\n",
    "!pip install numpy\n",
    "import numpy as np\n",
    "\n",
    "#Sistema glfw\n",
    "glfw.init()\n",
    "glfw.window_hint(glfw.VISIBLE, glfw.FALSE)\n",
    "#WIDTH_WINDOW : int = 800\n",
    "WIDTH_WINDOW : int = 2000\n",
    "#HEItarcidioGHT_WINDOW : int = 300\n",
    "HEIGHT_WINDOW : int = 400\n",
    "TITLE : str = \"Circulos\"\n",
    "window = glfw.create_window(WIDTH_WINDOW, HEIGHT_WINDOW, TITLE, None, None)\n",
    "glfw.make_context_current(window)"
   ]
  },
  {
   "cell_type": "markdown",
   "metadata": {},
   "source": [
    "### Eventos de teclado e mouse"
   ]
  },
  {
   "cell_type": "code",
   "execution_count": 2,
   "metadata": {},
   "outputs": [],
   "source": [
    "def key_event(window,key,scancode,action,mods):\n",
    "    print('[key event] key=',key)\n",
    "    print('[key event] scancode=',scancode)\n",
    "    print('[key event] action=',action)\n",
    "    print('[key event] mods=',mods)\n",
    "    print('-------')\n",
    "    \n",
    "glfw.set_key_callback(window,key_event)\n",
    "\n",
    "def mouse_event(window,button,action,mods):\n",
    "    print('[mouse event] button=',button)\n",
    "    print('[mouse event] action=',action)\n",
    "    print('[mouse event] mods=',mods)\n",
    "    print('-------')\n",
    "    \n",
    "glfw.set_mouse_button_callback(window,mouse_event)"
   ]
  },
  {
   "cell_type": "markdown",
   "metadata": {},
   "source": [
    "### Shaders: código, espaço, compilação e linkagem"
   ]
  },
  {
   "cell_type": "code",
   "execution_count": 3,
   "metadata": {},
   "outputs": [],
   "source": [
    "#GLSL para Vertex Shader\n",
    "vertex_code = \"\"\"\n",
    "        attribute vec2 position;\n",
    "        void main(){\n",
    "            gl_Position = vec4(position,0.0,1.0);\n",
    "        }\n",
    "        \"\"\"\n",
    "#GLSL para Fragment Shader\n",
    "fragment_code = \"\"\"\n",
    "        void main(){\n",
    "            gl_FragColor = vec4(0.0, 0.0, 0.0, 1.0);\n",
    "        }\n",
    "        \"\"\"\n",
    "\n",
    "#Requisitando slot para GPU\n",
    "program  = glCreateProgram()\n",
    "vertex   = glCreateShader(GL_VERTEX_SHADER)\n",
    "fragment = glCreateShader(GL_FRAGMENT_SHADER)\n",
    "\n",
    "#Associando os códigos aos espaços\n",
    "glShaderSource(vertex, vertex_code)\n",
    "glShaderSource(fragment, fragment_code)\n",
    "\n",
    "#Compilando shader de vértice\n",
    "glCompileShader(vertex)\n",
    "if not glGetShaderiv(vertex, GL_COMPILE_STATUS):\n",
    "    error = glGetShaderInfoLog(vertex).decode()\n",
    "    print(error)\n",
    "    raise RuntimeError(\"Erro de compilacao do Vertex Shader\")\n",
    "\n",
    "#Compilando shader de fragmento\n",
    "glCompileShader(fragment)\n",
    "if not glGetShaderiv(fragment, GL_COMPILE_STATUS):\n",
    "    error = glGetShaderInfoLog(fragment).decode()\n",
    "    print(error)\n",
    "    raise RuntimeError(\"Erro de compilacao do Fragment Shader\")\n",
    "\n",
    "#Associadno programas compilados ao programa principal\n",
    "glAttachShader(program, vertex)\n",
    "glAttachShader(program, fragment)\n",
    "\n",
    "#Linkagem do programa\n",
    "glLinkProgram(program)\n",
    "if not glGetProgramiv(program, GL_LINK_STATUS):\n",
    "    print(glGetProgramInfoLog(program))\n",
    "    raise RuntimeError('Linking error')\n",
    "    \n",
    "#Tornando programa o atual\n",
    "glUseProgram(program)"
   ]
  },
  {
   "cell_type": "markdown",
   "metadata": {},
   "source": [
    "### Criação dos vértices\n",
    "\n",
    "* cos(angulo) = x/R\n",
    "* sen(angulo) = y/R"
   ]
  },
  {
   "cell_type": "code",
   "execution_count": 4,
   "metadata": {},
   "outputs": [],
   "source": [
    "#Função que transforma coordenadas de glsl para glfw (não utilizei nesse notebook)\n",
    "def glsl_to_glfw(x_glsl, y_glsl):\n",
    "    #Primeiro é necessário transformar o sistema glsl para variar entre número positivos\n",
    "    #Neste caso, faremos variar de -1 a 1 para 0 a 2\n",
    "    x_glsl_shiftado = x_glsl + 1.0\n",
    "    y_glsl_shiftado = 1.0 - y_glsl\n",
    "\n",
    "    #Segundo, aplicamos regra de três: x_glsl_shiftado/x_glfw = 2/WIDHT_WINDOW\n",
    "    x_glfw = x_glsl_shiftado * (WIDTH_WINDOW/2)\n",
    "    y_glfw = y_glsl_shiftado * (HEIGHT_WINDOW/2)\n",
    "    return x_glfw, y_glfw"
   ]
  },
  {
   "cell_type": "code",
   "execution_count": 5,
   "metadata": {},
   "outputs": [
    {
     "data": {
      "text/plain": [
       "array([([-0.18217862,  0.32320127],), ([-0.18786351,  0.41695467],),\n",
       "       ([-0.19709554,  0.5033659 ],), ([-0.20952025,  0.57911754],),\n",
       "       ([-0.22466068,  0.6413014 ],), ([-0.24193557,  0.68753034],),\n",
       "       ([-0.26068172,  0.71602947],), ([-0.28017944,  0.7257048 ],),\n",
       "       ([-0.29968023,  0.71618474],), ([-0.31843543,  0.6878349 ],),\n",
       "       ([-0.33572504,  0.64174366],), ([-0.35088524,  0.5796804 ],),\n",
       "       ([-0.3633341 ,  0.5040278 ],), ([-0.3725936 ,  0.4176902 ],),\n",
       "       ([-0.3783084 ,  0.32398218],), ([-0.38025895,  0.22650124],),\n",
       "       ([-0.3783705 ,  0.12898974],), ([-0.37271544,  0.03519119],),\n",
       "       ([-0.36351097, -0.05129343],), ([-0.3511104 , -0.1271439 ],),\n",
       "       ([-0.3359898 , -0.18944831],), ([-0.31872967, -0.23581472],),\n",
       "       ([-0.29999262, -0.2644631 ],), ([-0.28049797, -0.27429366],),\n",
       "       ([-0.2609942 , -0.26492894],), ([-0.24222997, -0.2367285 ],),\n",
       "       ([-0.22492573, -0.19077496],), ([-0.20974576, -0.1288325 ],),\n",
       "       ([-0.19727285, -0.05327913],), ([-0.18798582,  0.0329846 ],),\n",
       "       ([-0.18224122,  0.126647  ],), ([-0.18025959,  0.22411227],)],\n",
       "      dtype=[('position', '<f4', (2,))])"
      ]
     },
     "execution_count": 5,
     "metadata": {},
     "output_type": "execute_result"
    }
   ],
   "source": [
    "import math\n",
    "import random\n",
    "\n",
    "#Pi: valor constante\n",
    "PI : float = 3.14\n",
    "#Número de vértices: define a qualidade do circulos\n",
    "num_vertices = 32\n",
    "#Cria espaço para os vértices\n",
    "vertices = np.zeros(num_vertices, [(\"position\", np.float32, 2)])\n",
    "#Raio do circulo que queremos criar\n",
    "aspect_radius_x = 1\n",
    "aspect_radius_y = 1\n",
    "\n",
    "if WIDTH_WINDOW > HEIGHT_WINDOW: \n",
    "    aspect_radius_x = HEIGHT_WINDOW / WIDTH_WINDOW\n",
    "else:\n",
    "    aspect_radius_y = WIDTH_WINDOW / HEIGHT_WINDOW\n",
    "\n",
    "raio = 0.5\n",
    "#Variável auxiliar para calcular os 32 vértices\n",
    "angulo = 0.0\n",
    "#Centro da circunferência\n",
    "c_x = random.uniform(-0.5, 0.5)\n",
    "c_y = random.uniform(-0.5, 0.5)\n",
    "\n",
    "for counter in range(num_vertices):\n",
    "    #Variação do angulo em 32 vezes\n",
    "    angulo += 2*PI/num_vertices \n",
    "    #Cálculos dos valores de (x,y)\n",
    "    x = math.cos(angulo)*raio*aspect_radius_x + c_x\n",
    "    y = math.sin(angulo)*raio*aspect_radius_y + c_y\n",
    "    x_, y_ =  glsl_to_glfw(x,y)\n",
    "    #vertices[\"position\"][counter] = [x_,y_]\n",
    "    vertices[\"position\"][counter] = [x,y]\n",
    "\n",
    "vertices"
   ]
  },
  {
   "cell_type": "markdown",
   "metadata": {},
   "source": [
    "### Manipulação dos espaços de dados"
   ]
  },
  {
   "cell_type": "code",
   "execution_count": 6,
   "metadata": {},
   "outputs": [],
   "source": [
    "#Requisitando espaço de buffer para GPU\n",
    "buffer = glGenBuffers(1)\n",
    "#Tornando o buffer o buffer padrão de dados\n",
    "glBindBuffer(GL_ARRAY_BUFFER, buffer)\n",
    "#Subindo os dados de vértice para o buffer na GPU\n",
    "glBufferData(GL_ARRAY_BUFFER, vertices.nbytes, vertices, GL_DYNAMIC_DRAW)\n",
    "#glBindBuffer(GL_ARRAY_BUFFER, buffer)\n",
    "\n",
    "#Encontrando informações de stride e offset dos vértices\n",
    "stride = vertices.strides[0]\n",
    "offset = ctypes.c_void_p(0)\n",
    "#Capturando posição do atributo \"position\" e habilitando\n",
    "loc = glGetAttribLocation(program, \"position\")\n",
    "glEnableVertexAttribArray(loc)\n",
    "#Linkando dados ao atributo \"position\"\n",
    "glVertexAttribPointer(loc, 2, GL_FLOAT, False, stride, offset)"
   ]
  },
  {
   "cell_type": "markdown",
   "metadata": {},
   "source": [
    "### Exibindo na tela"
   ]
  },
  {
   "cell_type": "code",
   "execution_count": 7,
   "metadata": {},
   "outputs": [],
   "source": [
    "glfw.show_window(window)"
   ]
  },
  {
   "cell_type": "markdown",
   "metadata": {},
   "source": [
    "## Loop principal\n",
    "\n",
    "* `GL_TRIANGLE_FAN`: nesta primitiva, os triângulos são formados conectando o primeiro vértice (o vértice central) a todos os outros vértices subsequentes na ordem em que eles são fornecidos. Isso cria um \"leque\" de triângulos que irradiam do vértice central."
   ]
  },
  {
   "cell_type": "code",
   "execution_count": 8,
   "metadata": {},
   "outputs": [],
   "source": [
    "while not glfw.window_should_close(window):\n",
    "    glfw.poll_events()\n",
    "\n",
    "    glPolygonMode(GL_FRONT_AND_BACK,GL_LINE) \n",
    "    glClear(GL_COLOR_BUFFER_BIT)\n",
    "    glClearColor(1.0, 1.0, 1.0, 1.0)\n",
    "    \n",
    "    #Primeiro número: vértice inicial\n",
    "    #Segundo número: quantidade de vértices\n",
    "    glDrawArrays(GL_TRIANGLE_FAN, 0, len(vertices))\n",
    "\n",
    "    glfw.swap_buffers(window)\n",
    "\n",
    "glfw.terminate()"
   ]
  }
 ],
 "metadata": {
  "kernelspec": {
   "display_name": "Python 3",
   "language": "python",
   "name": "python3"
  },
  "language_info": {
   "codemirror_mode": {
    "name": "ipython",
    "version": 3
   },
   "file_extension": ".py",
   "mimetype": "text/x-python",
   "name": "python",
   "nbconvert_exporter": "python",
   "pygments_lexer": "ipython3",
   "version": "3.11.5"
  },
  "orig_nbformat": 4
 },
 "nbformat": 4,
 "nbformat_minor": 2
}
