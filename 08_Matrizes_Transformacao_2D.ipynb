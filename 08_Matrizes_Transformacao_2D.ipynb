{
 "cells": [
  {
   "cell_type": "markdown",
   "metadata": {},
   "source": [
    "# Código 08: Matrizes de translação, rotação e escala"
   ]
  },
  {
   "cell_type": "markdown",
   "metadata": {},
   "source": [
    "## Código pré loop principal"
   ]
  },
  {
   "cell_type": "markdown",
   "metadata": {},
   "source": [
    "### Inicialização do glfw e inicialização da janela"
   ]
  },
  {
   "cell_type": "code",
   "execution_count": 2,
   "metadata": {},
   "outputs": [],
   "source": [
    "#Bibliotecas\n",
    "try:\n",
    "    import glfw\n",
    "    from OpenGL.GL import *\n",
    "    import numpy as np\n",
    "    import random\n",
    "except ImportError:\n",
    "    !pip install glfw\n",
    "    !pip install pyopengl\n",
    "    !pip install numpy\n",
    "    import glfw\n",
    "    from OpenGL.GL import *\n",
    "    import numpy as np\n",
    "    import random\n",
    "\n",
    "#Sistema glfw\n",
    "glfw.init()\n",
    "glfw.window_hint(glfw.VISIBLE, glfw.FALSE)"
   ]
  },
  {
   "cell_type": "markdown",
   "metadata": {},
   "source": [
    "### Criando a janela\n",
    "\n",
    "Aqui, vamos pegar informações do monitor atual. Em especial, o tamanho dele. Assim, conseguiremos fazer uma janela cheia."
   ]
  },
  {
   "cell_type": "code",
   "execution_count": null,
   "metadata": {},
   "outputs": [],
   "source": [
    "# Obtenha a lista de monitores disponíveis\n",
    "monitores = glfw.get_monitors()\n",
    "# Escolha o monitor em que você deseja exibir a janela em tela cheia (por exemplo, o primeiro monitor)\n",
    "monitor = monitores[0]\n",
    "# Configure as dimensões da janela com base nas configurações do monitor\n",
    "video_mode = glfw.get_video_mode(monitor)\n",
    "WIDTH_WINDOW, HEIGHT_WINDOW = video_mode.size\n",
    "WIDTH_WINDOW : int = int(1*WIDTH_WINDOW)\n",
    "HEIGHT_WINDOW : int = int(0.95*HEIGHT_WINDOW)\n",
    "#Exiba a tela\n",
    "TITLE: str = \"Transformação Geométrica 2D\"\n",
    "window = glfw.create_window(WIDTH_WINDOW, HEIGHT_WINDOW, TITLE, None, None)\n",
    "#Definindo a posição da janela\n",
    "POSX_WINDOW : int = (video_mode.size[0] - WIDTH_WINDOW) // 2\n",
    "POSY_WINDOW : int = (video_mode.size[1] - HEIGHT_WINDOW) // 2\n",
    "glfw.set_window_pos(window, POSX_WINDOW, POSY_WINDOW)\n",
    "glfw.make_context_current(window)"
   ]
  },
  {
   "cell_type": "markdown",
   "metadata": {},
   "source": [
    "### Shaders: Vertex e Fragment\n",
    "\n",
    "Criaremos um qualificador `uniform` para armazenar a matriz de transformação que será aplicado a todos os vértices. Também fazemos a matriz multiplicar a posição (vide teoria de matriz de transformação)"
   ]
  },
  {
   "cell_type": "code",
   "execution_count": null,
   "metadata": {},
   "outputs": [],
   "source": [
    "#GLSL para Vertex Shader\n",
    "vertex_code = \"\"\"\n",
    "        attribute vec2 position;\n",
    "        uniform mat4 mat_transformation;\n",
    "        void main(){\n",
    "            gl_Position = mat_transformation * vec4(position,0.0,1.0);\n",
    "        }\n",
    "        \"\"\"\n",
    "\n",
    "#GLSL para Fragment Shader\n",
    "fragment_code = \"\"\"\n",
    "        uniform vec4 color;\n",
    "        void main(){\n",
    "            gl_FragColor = color;\n",
    "        }\n",
    "        \"\"\""
   ]
  },
  {
   "cell_type": "markdown",
   "metadata": {},
   "source": [
    "### Solicitando espaço, compilando e linkando"
   ]
  },
  {
   "cell_type": "code",
   "execution_count": null,
   "metadata": {},
   "outputs": [],
   "source": [
    "#Requisitando slot para GPU\n",
    "program  = glCreateProgram()\n",
    "vertex   = glCreateShader(GL_VERTEX_SHADER)\n",
    "fragment = glCreateShader(GL_FRAGMENT_SHADER)\n",
    "\n",
    "#Associando os códigos aos espaços\n",
    "glShaderSource(vertex, vertex_code)\n",
    "glShaderSource(fragment, fragment_code)\n",
    "\n",
    "#Compilando shader de vértice\n",
    "glCompileShader(vertex)\n",
    "if not glGetShaderiv(vertex, GL_COMPILE_STATUS):\n",
    "    error = glGetShaderInfoLog(vertex).decode()\n",
    "    print(error)\n",
    "    raise RuntimeError(\"Erro de compilacao do Vertex Shader\")\n",
    "\n",
    "#Compilando shader de fragmento\n",
    "glCompileShader(fragment)\n",
    "if not glGetShaderiv(fragment, GL_COMPILE_STATUS):\n",
    "    error = glGetShaderInfoLog(fragment).decode()\n",
    "    print(error)\n",
    "    raise RuntimeError(\"Erro de compilacao do Fragment Shader\")\n",
    "\n",
    "#Associadno programas compilados ao programa principal\n",
    "glAttachShader(program, vertex)\n",
    "glAttachShader(program, fragment)\n",
    "\n",
    "#Linkagem do programa\n",
    "glLinkProgram(program)\n",
    "if not glGetProgramiv(program, GL_LINK_STATUS):\n",
    "    print(glGetProgramInfoLog(program))\n",
    "    raise RuntimeError('Linking error')\n",
    "    \n",
    "#Tornando programa o atual\n",
    "glUseProgram(program)"
   ]
  },
  {
   "cell_type": "markdown",
   "metadata": {},
   "source": [
    "### Criação dos vértices"
   ]
  },
  {
   "cell_type": "code",
   "execution_count": null,
   "metadata": {},
   "outputs": [],
   "source": [
    "#Calculando aspect_radius\n",
    "aspect_radius_x = 1\n",
    "aspect_radius_y = 1\n",
    "\n",
    "if WIDTH_WINDOW > HEIGHT_WINDOW: \n",
    "    aspect_radius_x = HEIGHT_WINDOW / WIDTH_WINDOW\n",
    "else:\n",
    "    aspect_radius_y = WIDTH_WINDOW / HEIGHT_WINDOW\n",
    "\n",
    "#Criando a nave\n",
    "nave_points =   [\n",
    "                    ( 0.00, +0.00), \n",
    "                    (-0.06, -0.03), \n",
    "                    (-0.06, 0.03)\n",
    "                ]\n",
    "\n"
   ]
  },
  {
   "cell_type": "code",
   "execution_count": null,
   "metadata": {},
   "outputs": [],
   "source": [
    "import math\n",
    "\n",
    "#Pi: valor constante\n",
    "PI : float = 3.14\n",
    "#Número de vértices: define a qualidade do circulos\n",
    "NUM_VERTEX : int = 32\n",
    "#Raio da circunferencia\n",
    "RAIUS : float = 0.03\n",
    "#Variável auxiliar para calcular os vértices\n",
    "temp_angle = 0.0\n",
    "#Centro da circunferência\n",
    "shot_x = -0.03\n",
    "shot_y =  0.00\n",
    "#Pontos do tiro\n",
    "shot_points = []\n",
    "for counter in range(NUM_VERTEX):\n",
    "    #Variação do angulo em 32 vezes\n",
    "    temp_angle += 2*PI/NUM_VERTEX \n",
    "    #Cálculos dos valores de (x,y)\n",
    "    x = math.cos(temp_angle)*RAIUS*aspect_radius_x + shot_x\n",
    "    y = math.sin(temp_angle)*RAIUS*aspect_radius_y + shot_y\n",
    "    shot_points += [(x,y)]"
   ]
  },
  {
   "cell_type": "code",
   "execution_count": null,
   "metadata": {},
   "outputs": [],
   "source": [
    "#Criando espaço\n",
    "TOTAL_LEN : int = len(nave_points) + len(shot_points)\n",
    "vertices = np.zeros(TOTAL_LEN, [(\"position\", np.float32, 2)])\n",
    "vertices[\"position\"] = nave_points + shot_points"
   ]
  },
  {
   "cell_type": "markdown",
   "metadata": {},
   "source": [
    "### Manipulação dos espaços de dados"
   ]
  },
  {
   "cell_type": "code",
   "execution_count": null,
   "metadata": {},
   "outputs": [],
   "source": [
    "#Requisitando espaço de buffer para GPU\n",
    "buffer = glGenBuffers(1)\n",
    "#Tornando o buffer o buffer padrão de dados\n",
    "glBindBuffer(GL_ARRAY_BUFFER, buffer)\n",
    "#Subindo os dados de vértice para o buffer na GPU\n",
    "glBufferData(GL_ARRAY_BUFFER, vertices.nbytes, vertices, GL_DYNAMIC_DRAW)\n",
    "#glBindBuffer(GL_ARRAY_BUFFER, buffer)\n",
    "\n",
    "#Encontrando informações de stride e offset dos vértices\n",
    "stride = vertices.strides[0]\n",
    "offset = ctypes.c_void_p(0)\n",
    "#Capturando posição do atributo \"position\" e habilitando\n",
    "loc_position = glGetAttribLocation(program, \"position\")\n",
    "glEnableVertexAttribArray(loc_position)\n",
    "#Linkando dados ao atributo \"position\"\n",
    "glVertexAttribPointer(loc_position, 2, GL_FLOAT, False, stride, offset)"
   ]
  },
  {
   "cell_type": "markdown",
   "metadata": {},
   "source": [
    "### Capturando localização do qualificador `uniform` responsável pela cor e pela matriz de transformação"
   ]
  },
  {
   "cell_type": "code",
   "execution_count": null,
   "metadata": {},
   "outputs": [],
   "source": [
    "loc_color = glGetUniformLocation(program, \"color\")\n",
    "loc_mat = glGetUniformLocation(program, \"mat_transformation\")"
   ]
  },
  {
   "cell_type": "markdown",
   "metadata": {},
   "source": [
    "### Eventos de teclado e mouse"
   ]
  },
  {
   "cell_type": "code",
   "execution_count": null,
   "metadata": {},
   "outputs": [],
   "source": [
    "# Coordenadas da nave\n",
    "nave_x = nave_y = 0\n",
    "\n",
    "# Coordenadas do tiro\n",
    "shot_x = shot_y = 0\n",
    "\n",
    "# Cores da nave\n",
    "R_NAVE = random.uniform(0.5,1.0)\n",
    "G_NAVE = random.uniform(0.5,1.0)\n",
    "B_NAVE = random.uniform(0.5,1.0)\n",
    "\n",
    "# Cores do tiro\n",
    "R_SHOT = random.uniform(0.5,1.0)\n",
    "G_SHOT = random.uniform(0.5,1.0)\n",
    "B_SHOT = random.uniform(0.5,1.0)\n",
    "\n",
    "# Escala da nave\n",
    "scale_nave = 1.0\n",
    "\n",
    "# Rotação da nave\n",
    "angle_nave = 0.0\n",
    "\n",
    "# Angulo do tiro\n",
    "angle_shot = 0.0\n",
    "\n",
    "# Existe tiro\n",
    "flag_shot = False\n",
    "\n",
    "# Determina sentido de movimentação do tiro\n",
    "incr_shot_x = incr_shot_y = 0.0001\n",
    "\n",
    "# Coordenadas do cursor\n",
    "cursor_x = cursor_y = 0\n",
    "\n",
    "def key_event(window,key,scancode,action,mods):\n",
    "    # Global: variáveis não estão sendo criadas como locais dentro da função\n",
    "        # mas sim referenciando as variáveis globais definidas fora da função.\n",
    "    global nave_x, nave_y, scale_nave, angle_nave, R_NAVE, G_NAVE, B_NAVE, flag_shot, incr_shot_x, incr_shot_y, shot_x, shot_y, angle_shot\n",
    "    \n",
    "    linear_speed = 0.05\n",
    "    if key == 87: nave_y += linear_speed #Tecla W\n",
    "    if key == 83: nave_y -= linear_speed #Tecla S\n",
    "    if key == 65: nave_x -= linear_speed #Tecla A\n",
    "    if key == 68: nave_x += linear_speed #Tecla D\n",
    "    \n",
    "    scale_nave_speed = 0.2\n",
    "    if key == 81: scale_nave += scale_nave_speed #Tecla Q\n",
    "    if key == 69: scale_nave -= scale_nave_speed #Tecla E\n",
    "    \n",
    "    angle_nave_speed = 0.139 #radianos\n",
    "    if key == 79: angle_nave += angle_nave_speed #Tecla O\n",
    "    if key == 80: angle_nave -= angle_nave_speed #Tecla P\n",
    "\n",
    "    color_speed = 0.1\n",
    "    if mods == 1:\n",
    "        if key == 82: R_NAVE += color_speed #Tecla R\n",
    "        if key == 71: G_NAVE += color_speed #Tecla G\n",
    "        if key == 66: B_NAVE += color_speed #Tecla B\n",
    "    else:\n",
    "        if key == 82: R_NAVE -= color_speed #Tecla R\n",
    "        if key == 71: G_NAVE -= color_speed #Tecla G\n",
    "        if key == 66: B_NAVE -= color_speed #Tecla B\n",
    "\n",
    "    if key == 32 :\n",
    "        flag_shot = True\n",
    "        shot_x = nave_x\n",
    "        shot_y = shot_y\n",
    "        angle_shot = angle_nave\n",
    "\n",
    "    # print('[key event] key=',key)\n",
    "    # print('[key event] scancode=',scancode)\n",
    "    # print('[key event] action=',action)\n",
    "    # print('[key event] mods=',mods)\n",
    "    # print('-------')\n",
    "    \n",
    "glfw.set_key_callback(window, key_event)\n",
    "\n",
    "def mouse_event(window,button,action,mods):\n",
    "    global nave_x, nave_y, cursor_x, cursor_y\n",
    "    if button == 1: \n",
    "        nave_x = cursor_x\n",
    "        nave_y = cursor_y\n",
    "    # print('[mouse event] button=',button)\n",
    "    # print('[mouse event] action=',action)\n",
    "    # print('[mouse event] mods=',mods)\n",
    "    # print('-------')\n",
    "\n",
    "glfw.set_mouse_button_callback(window, mouse_event)\n",
    "\n",
    "def cursor_event(window, xpos, ypos):\n",
    "    global cursor_x, cursor_y\n",
    "    cursor_x = xpos*(2/WIDTH_WINDOW) - 1\n",
    "    cursor_y = 1 - ypos*(2/HEIGHT_WINDOW)\n",
    "    #print(f\"Posição do cursor: ({cursor_x}, {cursor_y})\")\n",
    "\n",
    "glfw.set_cursor_pos_callback(window, cursor_event)\n"
   ]
  },
  {
   "cell_type": "markdown",
   "metadata": {},
   "source": [
    "### Exibindo na tela"
   ]
  },
  {
   "cell_type": "code",
   "execution_count": null,
   "metadata": {},
   "outputs": [],
   "source": [
    "glfw.show_window(window)"
   ]
  },
  {
   "cell_type": "markdown",
   "metadata": {},
   "source": [
    "## Loop principal\n",
    "\n",
    "* `glUniformMatrix4fv(loc_mat, 1, GL_TRUE, mat_transformation_nave)`: função usada para alterar o conteúdo do qualificador `uniform` com localização `loc_mat`."
   ]
  },
  {
   "cell_type": "code",
   "execution_count": null,
   "metadata": {},
   "outputs": [],
   "source": [
    "def calc_mat_transform(a,b,c):\n",
    "    m_a = a.reshape(4,4)\n",
    "    m_b = b.reshape(4,4)\n",
    "    m_c = c.reshape(4,4)\n",
    "    return np.dot(np.dot(m_a, m_b), m_c)\n",
    "\n",
    "def calc_angle_direction(cursor_x, cursor_y, nave_x, nave_y):\n",
    "    # Calcular a direção do objeto para o cursor\n",
    "    direction = np.array([cursor_x, cursor_y]) - np.array([nave_x, nave_y])\n",
    "    return np.arctan2(direction[1], direction[0])\n",
    "\n",
    "def calc_limits_coord_nave(nave_x, nave_y, borda_esq = -1, borda_dir = 1, borda_sup = 1, borda_inf = -1):    \n",
    "    if nave_y >= borda_sup:\n",
    "        nave_y = borda_sup\n",
    "    elif nave_y <= borda_inf:\n",
    "        nave_y = borda_inf\n",
    "\n",
    "    if nave_x >= borda_dir:\n",
    "        nave_x = borda_dir\n",
    "    elif nave_x <= borda_esq:\n",
    "        nave_x = borda_esq\n",
    "    \n",
    "    return nave_x, nave_y\n",
    "\n",
    "def calc_limits_coord_shot(shot_x, shot_y, flag_shot, nave_x, nave_y, borda_esq = -1, borda_dir = 1, borda_sup = 1, borda_inf = -1):\n",
    "    if shot_x >= borda_dir or shot_x <= borda_esq or shot_y >= borda_sup or shot_y <= borda_inf:\n",
    "        shot_x = nave_x\n",
    "        shot_y = nave_y\n",
    "        flag_shot = False\n",
    "    \n",
    "    return shot_x, shot_y, flag_shot"
   ]
  },
  {
   "cell_type": "code",
   "execution_count": null,
   "metadata": {},
   "outputs": [],
   "source": [
    "while not glfw.window_should_close(window):\n",
    "    glfw.poll_events()\n",
    "\n",
    "    # glPolygonMode(GL_FRONT,GL_LINE)\n",
    "    # glPolygonMode(GL_BACK,GL_LINE)\n",
    "    # glPolygonMode(GL_FRONT_AND_BACK,GL_LINE)\n",
    "    glClear(GL_COLOR_BUFFER_BIT)\n",
    "    glClearColor(1.0, 1.0, 1.0, 1.0)\n",
    "    \n",
    "    # Recalcula nave_x e nave_y caso ultrapassem a borda\n",
    "    nave_x, nave_y = calc_limits_coord_nave(nave_x,nave_y)\n",
    "    shot_x, shot_y, flag_shot = calc_limits_coord_shot(shot_x, shot_y, flag_shot, nave_x, nave_y)\n",
    "\n",
    "    # > Matriz de rotacao\n",
    "    angle_nave = calc_angle_direction(cursor_x, cursor_y, nave_x, nave_y)\n",
    "    cos = np.cos(angle_nave)\n",
    "    sin = np.sin(angle_nave)\n",
    "    mat_rotation_nave = np.array([  cos, -sin, 0.0, 0.0, \n",
    "                                    sin,  cos, 0.0, 0.0, \n",
    "                                    0.0,  0.0, 1.0, 0.0, \n",
    "                                    0.0,  0.0, 0.0, 1.0], np.float32)\n",
    "    \n",
    "    # > Matriz de escala\n",
    "    # Declara variável scale_nave_x e scale_nave_y para serem aplicados a cada eixo\n",
    "    # Como queremos uma variação igual de escala no dos eixos, eles são iguais\n",
    "    scale_nave_x = scale_nave_y = scale_nave\n",
    "    mat_scale_nave =    np.array([  scale_nave_x,     0.0, 0.0, 0.0, \n",
    "                                   0.0, scale_nave_y, 0.0, 0.0, \n",
    "                                   0.0,     0.0, 1.0, 0.0, \n",
    "                                   0.0,     0.0, 0.0, 1.0], np.float32)\n",
    "    \n",
    "    # > Matriz de translação\n",
    "    mat_translation_nave = np.array([   1.0, 0.0, 0.0, nave_x, \n",
    "                                        0.0, 1.0, 0.0, nave_y, \n",
    "                                        0.0, 0.0, 1.0, 0.0, \n",
    "                                        0.0, 0.0, 0.0, 1.0], np.float32)\n",
    "    \n",
    "    #> Cálculo da matriz de transformação\n",
    "    #É necessário colocar a matriz de rotação mais afastado do ponto na hora do cálculo\n",
    "    mat_transformation_nave = calc_mat_transform(mat_translation_nave, mat_rotation_nave, mat_scale_nave)\n",
    "    \n",
    "    #Aplica transformações, cores e rasteriza para a nave\n",
    "    glUniformMatrix4fv(loc_mat, 1, GL_TRUE, mat_transformation_nave)\n",
    "    glUniform4f(loc_color, R_NAVE, G_NAVE, B_NAVE, 1.0)\n",
    "    glDrawArrays(GL_TRIANGLE_STRIP, 0, len(nave_points))\n",
    "\n",
    "    #Aplica transformações, cores e rasteriza para o tiro\n",
    "    if flag_shot :\n",
    "        #shot_x += incr_shot_x\n",
    "        shot_y += incr_shot_y\n",
    "        #print(f\"Valor do angulo da nave e{angle_nave} e do tiro é {angle_shot}\")\n",
    "        cos = np.cos(angle_shot)\n",
    "        sin = np.sin(angle_shot)\n",
    "        mat_rotation_shot = np.array([      cos, -sin, 0.0, 0.0, \n",
    "                                            sin,  cos, 0.0, 0.0, \n",
    "                                            0.0,  0.0, 1.0, 0.0, \n",
    "                                            0.0,  0.0, 0.0, 1.0], np.float32)\n",
    "    \n",
    "        mat_translation_shot = np.array([   1.0, 0.0, 0.0, shot_x, \n",
    "                                            0.0, 1.0, 0.0, shot_y, \n",
    "                                            0.0, 0.0, 1.0, 0.0, \n",
    "                                            0.0, 0.0, 0.0, 1.0], np.float32)\n",
    "        \n",
    "        mat_transformation_shot = calc_mat_transform(mat_translation_shot, mat_rotation_shot, np.identity(4))\n",
    "        glUniformMatrix4fv(loc_mat, 1, GL_TRUE, mat_translation_shot)\n",
    "    #Provavelmente não fica certinho porque\n",
    "        #1. Quando eu nao estou atirando, o tiro segue a nave certinho porque estou usando a matriz de transformação da nave no tiro também\n",
    "        #2. Para corrigir, vou ter que salvar a matriz de rotação da nave e aplicar no tiro antes de aplica a transformação de deslocação\n",
    "        #3. Vou fazer isso, mas agora só quando estiver trabalhando com orientação a objeto\n",
    "    glDrawArrays(GL_TRIANGLE_FAN, len(nave_points), len(shot_points))\n",
    "\n",
    "    glfw.swap_buffers(window)\n",
    "\n",
    "glfw.terminate()"
   ]
  }
 ],
 "metadata": {
  "kernelspec": {
   "display_name": "Python 3",
   "language": "python",
   "name": "python3"
  },
  "language_info": {
   "codemirror_mode": {
    "name": "ipython",
    "version": 3
   },
   "file_extension": ".py",
   "mimetype": "text/x-python",
   "name": "python",
   "nbconvert_exporter": "python",
   "pygments_lexer": "ipython3",
   "version": "3.10.11"
  },
  "orig_nbformat": 4
 },
 "nbformat": 4,
 "nbformat_minor": 2
}
