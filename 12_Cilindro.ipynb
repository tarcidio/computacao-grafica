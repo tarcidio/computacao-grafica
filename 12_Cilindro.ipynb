{
 "cells": [
  {
   "cell_type": "markdown",
   "metadata": {},
   "source": [
    "# Código 12: Cilindro"
   ]
  },
  {
   "cell_type": "markdown",
   "metadata": {},
   "source": [
    "## Código pré loop principal"
   ]
  },
  {
   "cell_type": "markdown",
   "metadata": {},
   "source": [
    "### Inicialização do glfw e criação da janela"
   ]
  },
  {
   "cell_type": "code",
   "execution_count": 1,
   "metadata": {},
   "outputs": [
    {
     "name": "stdout",
     "output_type": "stream",
     "text": [
      "Requirement already satisfied: glfw in c:\\users\\10748347\\appdata\\local\\packages\\pythonsoftwarefoundation.python.3.11_qbz5n2kfra8p0\\localcache\\local-packages\\python311\\site-packages (2.6.2)\n",
      "Requirement already satisfied: pyopengl in c:\\users\\10748347\\appdata\\local\\packages\\pythonsoftwarefoundation.python.3.11_qbz5n2kfra8p0\\localcache\\local-packages\\python311\\site-packages (3.1.7)\n",
      "Requirement already satisfied: numpy in c:\\users\\10748347\\appdata\\local\\packages\\pythonsoftwarefoundation.python.3.11_qbz5n2kfra8p0\\localcache\\local-packages\\python311\\site-packages (1.26.0)\n"
     ]
    }
   ],
   "source": [
    "#Bibliotecas\n",
    "!pip install glfw\n",
    "import glfw\n",
    "!pip install pyopengl\n",
    "from OpenGL.GL import *\n",
    "import OpenGL.GL.shaders #Não é redundante?\n",
    "!pip install numpy\n",
    "import numpy as np\n",
    "import math\n",
    "import random\n",
    "\n",
    "#Sistema glfw\n",
    "glfw.init()\n",
    "glfw.window_hint(glfw.VISIBLE, glfw.FALSE)\n",
    "\n",
    "#get_dim_pos: retorna tamanho da tela e posição da tela\n",
    "def get_dim_pos(per_width = 0.6, per_height = 0.6): \n",
    "    # Obtendo configurações do monitor\n",
    "    monitores = glfw.get_monitors()\n",
    "    monitor = monitores[0]\n",
    "    video_mode = glfw.get_video_mode(monitor)\n",
    "    WIDTH_WINDOW, HEIGHT_WINDOW = video_mode.size\n",
    "    # Definindo proporção que se quer do monitor\n",
    "    WIDTH_WINDOW : int = int(per_width*WIDTH_WINDOW)\n",
    "    HEIGHT_WINDOW : int = int(per_height*HEIGHT_WINDOW)\n",
    "    POSX_WINDOW : int = (video_mode.size[0] - WIDTH_WINDOW) // 2\n",
    "    POSY_WINDOW : int = (video_mode.size[1] - HEIGHT_WINDOW) // 2\n",
    "    return WIDTH_WINDOW, HEIGHT_WINDOW, POSX_WINDOW, POSY_WINDOW\n",
    "\n",
    "# Pega tamanho da tela e posição da tela\n",
    "WIDTH_WINDOW, HEIGHT_WINDOW, POSX_WINDOW, POSY_WINDOW = get_dim_pos(0.6,0.6)\n",
    "# Criando janela\n",
    "TITLE: str = \"Cilindro\"\n",
    "window = glfw.create_window(WIDTH_WINDOW, HEIGHT_WINDOW, TITLE, None, None)\n",
    "glfw.set_window_pos(window, POSX_WINDOW, POSY_WINDOW)\n",
    "glfw.make_context_current(window)"
   ]
  },
  {
   "cell_type": "markdown",
   "metadata": {},
   "source": [
    "### Eventos de teclado e mouse"
   ]
  },
  {
   "cell_type": "code",
   "execution_count": 2,
   "metadata": {},
   "outputs": [],
   "source": [
    "angle = 0.0\n",
    "scale = 1.0\n",
    "pos_x = pos_y = pos_z = 0.0\n",
    "\n",
    "def key_event(window,key,scancode,action,mods):\n",
    "    global angle, pos_x, pos_y, scale\n",
    "\n",
    "    angular_speed = 0.139\n",
    "    if key == 81: angle -= angular_speed #Tecla Q\n",
    "    if key == 82: angle += angular_speed #Tecla R\n",
    "\n",
    "    scale_speed = 0.2\n",
    "    if key == 70: scale += scale_speed #Tecla F\n",
    "    if key == 71: scale -= scale_speed #Tecla G\n",
    "\n",
    "    linear_speed = 0.05\n",
    "    if key == 87: pos_y += linear_speed #Tecla W\n",
    "    if key == 83: pos_y -= linear_speed #Tecla S\n",
    "    if key == 65: pos_x -= linear_speed #Tecla A\n",
    "    if key == 68: pos_x += linear_speed #Tecla D\n",
    "\n",
    "    # print('[key event] key=',key)\n",
    "    # print('[key event] scancode=',scancode)\n",
    "    # print('[key event] action=',action)\n",
    "    # print('[key event] mods=',mods)\n",
    "    # print('-------')\n",
    "    \n",
    "glfw.set_key_callback(window,key_event)\n",
    "\n",
    "def mouse_event(window,button,action,mods):\n",
    "    print('[mouse event] button=',button)\n",
    "    print('[mouse event] action=',action)\n",
    "    print('[mouse event] mods=',mods)\n",
    "    print('-------')\n",
    "    \n",
    "glfw.set_mouse_button_callback(window,mouse_event)"
   ]
  },
  {
   "cell_type": "markdown",
   "metadata": {},
   "source": [
    "### Shaders: Vertex e Fragment"
   ]
  },
  {
   "cell_type": "code",
   "execution_count": 3,
   "metadata": {},
   "outputs": [],
   "source": [
    "#GLSL para Vertex Shader\n",
    "vertex_code = \"\"\"\n",
    "        attribute vec3 position;\n",
    "        uniform mat4 mat_transformation;\n",
    "        void main(){\n",
    "            gl_Position = mat_transformation * vec4(position,1.0);\n",
    "        }\n",
    "        \"\"\"\n",
    "\n",
    "#GLSL para Fragment Shader\n",
    "fragment_code = \"\"\"\n",
    "        uniform vec4 color;\n",
    "        void main(){\n",
    "            gl_FragColor = color;\n",
    "        }\n",
    "        \"\"\""
   ]
  },
  {
   "cell_type": "markdown",
   "metadata": {},
   "source": [
    "### Solicitando espaço, compilando e linkando"
   ]
  },
  {
   "cell_type": "code",
   "execution_count": 4,
   "metadata": {},
   "outputs": [],
   "source": [
    "#Requisitando slot para GPU\n",
    "program  = glCreateProgram()\n",
    "vertex   = glCreateShader(GL_VERTEX_SHADER)\n",
    "fragment = glCreateShader(GL_FRAGMENT_SHADER)\n",
    "\n",
    "#Associando os códigos aos espaços\n",
    "glShaderSource(vertex, vertex_code)\n",
    "glShaderSource(fragment, fragment_code)\n",
    "\n",
    "#Compilando shader de vértice\n",
    "glCompileShader(vertex)\n",
    "if not glGetShaderiv(vertex, GL_COMPILE_STATUS):\n",
    "    error = glGetShaderInfoLog(vertex).decode()\n",
    "    print(error)\n",
    "    raise RuntimeError(\"Erro de compilacao do Vertex Shader\")\n",
    "\n",
    "#Compilando shader de fragmento\n",
    "glCompileShader(fragment)\n",
    "if not glGetShaderiv(fragment, GL_COMPILE_STATUS):\n",
    "    error = glGetShaderInfoLog(fragment).decode()\n",
    "    print(error)\n",
    "    raise RuntimeError(\"Erro de compilacao do Fragment Shader\")\n",
    "\n",
    "#Associadno programas compilados ao programa principal\n",
    "glAttachShader(program, vertex)\n",
    "glAttachShader(program, fragment)\n",
    "\n",
    "#Linkagem do programa\n",
    "glLinkProgram(program)\n",
    "if not glGetProgramiv(program, GL_LINK_STATUS):\n",
    "    print(glGetProgramInfoLog(program))\n",
    "    raise RuntimeError('Linking error')\n",
    "    \n",
    "#Tornando programa o atual\n",
    "glUseProgram(program)"
   ]
  },
  {
   "cell_type": "markdown",
   "metadata": {},
   "source": [
    "### Criação dos vértices"
   ]
  },
  {
   "cell_type": "code",
   "execution_count": 5,
   "metadata": {},
   "outputs": [],
   "source": [
    "PI : float = 3.141592\n",
    "RADIUS : float = 0.25\n",
    "HEIGHT_CILIN : float = 0.5\n",
    "NUM_SIDES : int = 120\n",
    "STEPS : float = (2*PI)/NUM_SIDES\n",
    "\n",
    "def to_coord(a,t,h):\n",
    "    x = a*math.cos(t)\n",
    "    y = a*math.sin(t)\n",
    "    z = h\n",
    "    return (x,y,z)\n",
    "\n",
    "vert_side = []\n",
    "center_sup = (0,0,HEIGHT_CILIN)\n",
    "vert_sup = []\n",
    "center_inf = (0,0,0)\n",
    "vert_inf = []\n",
    "for i in range(0, NUM_SIDES):\n",
    "    slide_i = i*STEPS\n",
    "    if i + 1 == NUM_SIDES:\n",
    "        slide_i_next = 2*PI\n",
    "    else:\n",
    "        slide_i_next = (i+1)*STEPS\n",
    "\n",
    "    # Pontos\n",
    "    p0 = to_coord(RADIUS, slide_i, 0)\n",
    "    p1 = to_coord(RADIUS, slide_i, HEIGHT_CILIN)\n",
    "    p2 = to_coord(RADIUS, slide_i_next, HEIGHT_CILIN)\n",
    "    p3 = to_coord(RADIUS, slide_i_next, 0)\n",
    "\n",
    "    # Faces\n",
    "    vert_side += [p0,p1,p2,p0,p2,p3]\n",
    "\n",
    "    #Base superior\n",
    "    vert_sup += [center_sup, p1, p2]\n",
    "\n",
    "    #Base inferior\n",
    "    vert_inf += [center_inf, p0,p3]\n",
    "\n",
    "vert_total = vert_side + vert_sup + vert_inf\n",
    "vertices = np.zeros(len(vert_total), [(\"position\", np.float32, 3)])\n",
    "vertices['position'] = np.array(vert_total)"
   ]
  },
  {
   "cell_type": "markdown",
   "metadata": {},
   "source": [
    "### Manipulação dos espaços de dados"
   ]
  },
  {
   "cell_type": "code",
   "execution_count": 6,
   "metadata": {},
   "outputs": [],
   "source": [
    "#Requisitando espaço de buffer para GPU\n",
    "buffer = glGenBuffers(1)\n",
    "#Tornando o buffer o buffer padrão de dados\n",
    "glBindBuffer(GL_ARRAY_BUFFER, buffer)\n",
    "#Subindo os dados de vértice para o buffer na GPU\n",
    "glBufferData(GL_ARRAY_BUFFER, vertices.nbytes, vertices, GL_DYNAMIC_DRAW)\n",
    "#glBindBuffer(GL_ARRAY_BUFFER, buffer)\n",
    "\n",
    "#Encontrando informações de stride e offset dos vértices\n",
    "stride = vertices.strides[0]\n",
    "offset = ctypes.c_void_p(0)\n",
    "#Capturando posição do atributo \"position\" e habilitando. Também captura a posicao de loc_color e loc_mat\n",
    "loc_position = glGetAttribLocation(program, \"position\")\n",
    "loc_color = glGetUniformLocation(program, \"color\")\n",
    "loc_mat = glGetUniformLocation(program, \"mat_transformation\")\n",
    "glEnableVertexAttribArray(loc_position)\n",
    "#Linkando dados ao atributo \"position\"\n",
    "glVertexAttribPointer(loc_position, 3, GL_FLOAT, False, stride, offset)"
   ]
  },
  {
   "cell_type": "markdown",
   "metadata": {},
   "source": [
    "### Exibindo na tela"
   ]
  },
  {
   "cell_type": "code",
   "execution_count": 7,
   "metadata": {},
   "outputs": [],
   "source": [
    "glfw.show_window(window)"
   ]
  },
  {
   "cell_type": "markdown",
   "metadata": {},
   "source": [
    "## Loop principal"
   ]
  },
  {
   "cell_type": "code",
   "execution_count": 8,
   "metadata": {},
   "outputs": [],
   "source": [
    "# Habilita 3D\n",
    "glEnable(GL_DEPTH_TEST)\n",
    "\n",
    "def calc_mat(a,b,c):\n",
    "    m_a = a.reshape(4,4)\n",
    "    m_b = b.reshape(4,4)\n",
    "    m_c = c.reshape(4,4)\n",
    "    return np.dot(np.dot(m_a, m_b), m_c)\n",
    "\n",
    "while not glfw.window_should_close(window):\n",
    "    glfw.poll_events() \n",
    "    glClear(GL_COLOR_BUFFER_BIT | GL_DEPTH_BUFFER_BIT)\n",
    "    glClearColor(1.0, 1.0, 1.0, 1.0)\n",
    "\n",
    "    mat_translation = np.array([    1.0, 0.0, 0.0, pos_x, \n",
    "                                    0.0, 1.0, 0.0, pos_y, \n",
    "                                    0.0, 0.0, 1.0, pos_z, \n",
    "                                    0.0, 0.0, 0.0,   1.0], np.float32)\n",
    "    \n",
    "    scale_x = scale_y = scale_z = scale\n",
    "    mat_scale =      np.array([     scale_x,     0.0,     0.0, 0.0, \n",
    "                                        0.0, scale_y,     0.0, 0.0, \n",
    "                                        0.0,     0.0, scale_z, 0.0, \n",
    "                                        0.0,     0.0,     0.0, 1.0], np.float32)\n",
    "    \n",
    "    cos = math.cos(angle)\n",
    "    sin = math.sin(angle)\n",
    "    mat_rotation_z = np.array([     cos, -sin, 0.0, 0.0, \n",
    "                                    sin,  cos, 0.0, 0.0, \n",
    "                                    0.0,  0.0, 1.0, 0.0, \n",
    "                                    0.0,  0.0, 0.0, 1.0], np.float32)\n",
    "    \n",
    "    mat_rotation_x = np.array([     1.0, 0.0,  0.0, 0.0, \n",
    "                                    0.0, cos, -sin, 0.0, \n",
    "                                    0.0, sin,  cos, 0.0, \n",
    "                                    0.0, 0.0,  0.0, 1.0], np.float32)\n",
    "    \n",
    "    mat_rotation_y = np.array([      cos,  0.0, sin, 0.0, \n",
    "                                     0.0,  1.0, 0.0, 0.0, \n",
    "                                    -sin,  0.0, cos, 0.0, \n",
    "                                     0.0,  0.0, 0.0, 1.0], np.float32)\n",
    "    \n",
    "    mat_transform = calc_mat(mat_rotation_x, mat_rotation_z, mat_rotation_y)\n",
    "    mat_transform = calc_mat(mat_translation, mat_scale, mat_transform)\n",
    "    glUniformMatrix4fv(loc_mat, 1, GL_TRUE, mat_transform)\n",
    "\n",
    "    # A cada três pontos, temos um novo triângulo\n",
    "    for triangle in range(0,len(vertices),3):\n",
    "        random.seed( triangle )\n",
    "        # Construindo cilindro colorido\n",
    "        R = random.random()\n",
    "        G = random.random()\n",
    "        B = random.random()\n",
    "        glUniform4f(loc_color, R, G, B, 1.0)\n",
    "        glDrawArrays(GL_TRIANGLES, triangle, 3)\n",
    "\n",
    "    glfw.swap_buffers(window)\n",
    "\n",
    "glfw.terminate()"
   ]
  }
 ],
 "metadata": {
  "kernelspec": {
   "display_name": "Python 3",
   "language": "python",
   "name": "python3"
  },
  "language_info": {
   "codemirror_mode": {
    "name": "ipython",
    "version": 3
   },
   "file_extension": ".py",
   "mimetype": "text/x-python",
   "name": "python",
   "nbconvert_exporter": "python",
   "pygments_lexer": "ipython3",
   "version": "3.11.6"
  },
  "orig_nbformat": 4
 },
 "nbformat": 4,
 "nbformat_minor": 2
}
