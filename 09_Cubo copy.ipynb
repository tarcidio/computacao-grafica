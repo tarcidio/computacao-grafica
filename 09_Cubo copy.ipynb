{
 "cells": [
  {
   "cell_type": "markdown",
   "metadata": {},
   "source": [
    "# Código 09: Cubo"
   ]
  },
  {
   "cell_type": "markdown",
   "metadata": {},
   "source": [
    "## Código pré loop principal"
   ]
  },
  {
   "cell_type": "markdown",
   "metadata": {},
   "source": [
    "### Inicialização do glfw e criação da janela"
   ]
  },
  {
   "cell_type": "code",
   "execution_count": null,
   "metadata": {},
   "outputs": [],
   "source": [
    "#Bibliotecas\n",
    "!pip install glfw\n",
    "import glfw\n",
    "!pip install pyopengl\n",
    "from OpenGL.GL import *\n",
    "import OpenGL.GL.shaders #Não é redundante?\n",
    "!pip install numpy\n",
    "import numpy as np\n",
    "import math\n",
    "import random\n",
    "\n",
    "#Sistema glfw\n",
    "glfw.init()\n",
    "glfw.window_hint(glfw.VISIBLE, glfw.FALSE)\n",
    "\n",
    "#get_dim_pos: retorna tamanho da tela e posição da tela\n",
    "def get_dim_pos(per_width = 0.6, per_height = 0.6): \n",
    "    # Obtendo configurações do monitor\n",
    "    monitores = glfw.get_monitors()\n",
    "    monitor = monitores[0]\n",
    "    video_mode = glfw.get_video_mode(monitor)\n",
    "    WIDTH_WINDOW, HEIGHT_WINDOW = video_mode.size\n",
    "    # Definindo proporção que se quer do monitor\n",
    "    WIDTH_WINDOW : int = int(per_width*WIDTH_WINDOW)\n",
    "    HEIGHT_WINDOW : int = int(per_height*HEIGHT_WINDOW)\n",
    "    POSX_WINDOW : int = (video_mode.size[0] - WIDTH_WINDOW) // 2\n",
    "    POSY_WINDOW : int = (video_mode.size[1] - HEIGHT_WINDOW) // 2\n",
    "    return WIDTH_WINDOW, HEIGHT_WINDOW, POSX_WINDOW, POSY_WINDOW\n",
    "\n",
    "# Pega tamanho da tela e posição da tela\n",
    "WIDTH_WINDOW, HEIGHT_WINDOW, POSX_WINDOW, POSY_WINDOW = get_dim_pos(0.6,0.6)\n",
    "# Criando janela\n",
    "TITLE: str = \"Cubo\"\n",
    "window = glfw.create_window(WIDTH_WINDOW, HEIGHT_WINDOW, TITLE, None, None)\n",
    "glfw.set_window_pos(window, POSX_WINDOW, POSY_WINDOW)\n",
    "glfw.make_context_current(window)"
   ]
  },
  {
   "cell_type": "markdown",
   "metadata": {},
   "source": [
    "### Eventos de teclado e mouse"
   ]
  },
  {
   "cell_type": "code",
   "execution_count": null,
   "metadata": {},
   "outputs": [],
   "source": [
    "angle = 0.0\n",
    "scale = 1.0\n",
    "pos_x = pos_y = pos_z = 0.0\n",
    "\n",
    "def key_event(window,key,scancode,action,mods):\n",
    "    global angle, pos_x, pos_y, scale\n",
    "\n",
    "    angular_speed = 0.139\n",
    "    if key == 81: angle -= angular_speed #Tecla Q\n",
    "    if key == 82: angle += angular_speed #Tecla R\n",
    "\n",
    "    scale_speed = 0.2\n",
    "    if key == 70: scale += scale_speed #Tecla F\n",
    "    if key == 71: scale -= scale_speed #Tecla G\n",
    "\n",
    "    linear_speed = 0.05\n",
    "    if key == 87: pos_y += linear_speed #Tecla W\n",
    "    if key == 83: pos_y -= linear_speed #Tecla S\n",
    "    if key == 65: pos_x -= linear_speed #Tecla A\n",
    "    if key == 68: pos_x += linear_speed #Tecla D\n",
    "\n",
    "    # print('[key event] key=',key)\n",
    "    # print('[key event] scancode=',scancode)\n",
    "    # print('[key event] action=',action)\n",
    "    # print('[key event] mods=',mods)\n",
    "    # print('-------')\n",
    "    \n",
    "glfw.set_key_callback(window,key_event)\n",
    "\n",
    "def mouse_event(window,button,action,mods):\n",
    "    print('[mouse event] button=',button)\n",
    "    print('[mouse event] action=',action)\n",
    "    print('[mouse event] mods=',mods)\n",
    "    print('-------')\n",
    "    \n",
    "glfw.set_mouse_button_callback(window,mouse_event)"
   ]
  },
  {
   "cell_type": "markdown",
   "metadata": {},
   "source": [
    "### Shaders: Vertex e Fragment\n",
    "\n",
    "Aqui, como será trabalhado em terceira dimensão, cria-se um atributo `position` com três dimensões que será convertido para quatro pela coordenada homogênea. Tem-se também `mat_transformation` com quatro dimensões. "
   ]
  },
  {
   "cell_type": "code",
   "execution_count": null,
   "metadata": {},
   "outputs": [],
   "source": [
    "#GLSL para Vertex Shader\n",
    "vertex_code = \"\"\"\n",
    "        attribute vec3 position;\n",
    "        uniform mat4 mat_transformation;\n",
    "        void main(){\n",
    "            gl_Position = mat_transformation * vec4(position,1.0);\n",
    "        }\n",
    "        \"\"\"\n",
    "\n",
    "#GLSL para Fragment Shader\n",
    "fragment_code = \"\"\"\n",
    "        uniform vec4 color;\n",
    "        void main(){\n",
    "            gl_FragColor = color;\n",
    "        }\n",
    "        \"\"\""
   ]
  },
  {
   "cell_type": "markdown",
   "metadata": {},
   "source": [
    "### Solicitando espaço, compilando e linkando"
   ]
  },
  {
   "cell_type": "code",
   "execution_count": null,
   "metadata": {},
   "outputs": [],
   "source": [
    "#Requisitando slot para GPU\n",
    "program  = glCreateProgram()\n",
    "vertex   = glCreateShader(GL_VERTEX_SHADER)\n",
    "fragment = glCreateShader(GL_FRAGMENT_SHADER)\n",
    "\n",
    "#Associando os códigos aos espaços\n",
    "glShaderSource(vertex, vertex_code)\n",
    "glShaderSource(fragment, fragment_code)\n",
    "\n",
    "#Compilando shader de vértice\n",
    "glCompileShader(vertex)\n",
    "if not glGetShaderiv(vertex, GL_COMPILE_STATUS):\n",
    "    error = glGetShaderInfoLog(vertex).decode()\n",
    "    print(error)\n",
    "    raise RuntimeError(\"Erro de compilacao do Vertex Shader\")\n",
    "\n",
    "#Compilando shader de fragmento\n",
    "glCompileShader(fragment)\n",
    "if not glGetShaderiv(fragment, GL_COMPILE_STATUS):\n",
    "    error = glGetShaderInfoLog(fragment).decode()\n",
    "    print(error)\n",
    "    raise RuntimeError(\"Erro de compilacao do Fragment Shader\")\n",
    "\n",
    "#Associadno programas compilados ao programa principal\n",
    "glAttachShader(program, vertex)\n",
    "glAttachShader(program, fragment)\n",
    "\n",
    "#Linkagem do programa\n",
    "glLinkProgram(program)\n",
    "if not glGetProgramiv(program, GL_LINK_STATUS):\n",
    "    print(glGetProgramInfoLog(program))\n",
    "    raise RuntimeError('Linking error')\n",
    "    \n",
    "#Tornando programa o atual\n",
    "glUseProgram(program)"
   ]
  },
  {
   "cell_type": "markdown",
   "metadata": {},
   "source": [
    "### Criação dos vértices\n",
    "\n",
    "Para este exemplo, usaremos 24 vértices. Porém, o cubo pode utilizar apenas quatro. A ideia aqui é aplicar transformações a cada uma das seis faces. Outro ponto importante é que cada ponto possui três coordenadas."
   ]
  },
  {
   "cell_type": "code",
   "execution_count": null,
   "metadata": {},
   "outputs": [],
   "source": [
    "#Criando espaço\n",
    "vertices = np.zeros(24, [(\"position\", np.float32, 3)])\n",
    "\n",
    "#Preenchendo as coordenadas\n",
    "vertices['position'] = [\n",
    "    # Face 1 do Cubo (vértices do quadrado)\n",
    "    (-0.2, -0.2, +0.2),\n",
    "    (+0.2, -0.2, +0.2),\n",
    "    (-0.2, +0.2, +0.2),\n",
    "    (+0.2, +0.2, +0.2),\n",
    "\n",
    "    # Face 2 do Cubo\n",
    "    (+0.2, -0.2, +0.2),\n",
    "    (+0.2, -0.2, -0.2),         \n",
    "    (+0.2, +0.2, +0.2),\n",
    "    (+0.2, +0.2, -0.2),\n",
    "    \n",
    "    # Face 3 do Cubo\n",
    "    (+0.2, -0.2, -0.2),\n",
    "    (-0.2, -0.2, -0.2),            \n",
    "    (+0.2, +0.2, -0.2),\n",
    "    (-0.2, +0.2, -0.2),\n",
    "\n",
    "    # Face 4 do Cubo\n",
    "    (-0.2, -0.2, -0.2),\n",
    "    (-0.2, -0.2, +0.2),         \n",
    "    (-0.2, +0.2, -0.2),\n",
    "    (-0.2, +0.2, +0.2),\n",
    "\n",
    "    # Face 5 do Cubo\n",
    "    (-0.2, -0.2, -0.2),\n",
    "    (+0.2, -0.2, -0.2),         \n",
    "    (-0.2, -0.2, +0.2),\n",
    "    (+0.2, -0.2, +0.2),\n",
    "    \n",
    "    # Face 6 do Cubo\n",
    "    (-0.2, +0.2, +0.2),\n",
    "    (+0.2, +0.2, +0.2),           \n",
    "    (-0.2, +0.2, -0.2),\n",
    "    (+0.2, +0.2, -0.2)\n",
    "]"
   ]
  },
  {
   "cell_type": "markdown",
   "metadata": {},
   "source": [
    "### Manipulação dos espaços de dados"
   ]
  },
  {
   "cell_type": "code",
   "execution_count": null,
   "metadata": {},
   "outputs": [],
   "source": [
    "#Requisitando espaço de buffer para GPU\n",
    "buffer = glGenBuffers(1)\n",
    "#Tornando o buffer o buffer padrão de dados\n",
    "glBindBuffer(GL_ARRAY_BUFFER, buffer)\n",
    "#Subindo os dados de vértice para o buffer na GPU\n",
    "glBufferData(GL_ARRAY_BUFFER, vertices.nbytes, vertices, GL_DYNAMIC_DRAW)\n",
    "#glBindBuffer(GL_ARRAY_BUFFER, buffer)\n",
    "\n",
    "#Encontrando informações de stride e offset dos vértices\n",
    "stride = vertices.strides[0]\n",
    "offset = ctypes.c_void_p(0)\n",
    "#Capturando posição do atributo \"position\" e habilitando. Também captura a posicao de loc_color e loc_mat\n",
    "loc_position = glGetAttribLocation(program, \"position\")\n",
    "loc_color = glGetUniformLocation(program, \"color\")\n",
    "loc_mat = glGetUniformLocation(program, \"mat_transformation\")\n",
    "glEnableVertexAttribArray(loc_position)\n",
    "#Linkando dados ao atributo \"position\"\n",
    "glVertexAttribPointer(loc_position, 3, GL_FLOAT, False, stride, offset)"
   ]
  },
  {
   "cell_type": "markdown",
   "metadata": {},
   "source": [
    "### Exibindo na tela"
   ]
  },
  {
   "cell_type": "code",
   "execution_count": null,
   "metadata": {},
   "outputs": [],
   "source": [
    "glfw.show_window(window)"
   ]
  },
  {
   "cell_type": "markdown",
   "metadata": {},
   "source": [
    "## Loop principal\n",
    "\n",
    "* `glEnable()`: ativa recursos específicos do OpenGL. Quando se usa `GL_DEPTH_TEST` como parâmetro, habilita-se o teste de profundidade. Este teste determina qual objeto ou fragmento de cena deve ser visível em um determinado pixel na tela comparando a profundidade (ou distância) com relação à câmera. Caso o fragmento que estiver no buffer for mais próximo que aquele em análise, ele é jogado fora. Caso contrário, ele substitui o fragmento que estiver no buffer."
   ]
  },
  {
   "cell_type": "code",
   "execution_count": null,
   "metadata": {},
   "outputs": [],
   "source": [
    "# Variavel angulo usado para visualizar\n",
    "glEnable(GL_DEPTH_TEST) ### importante para 3D\n",
    "\n",
    "def calc_mat(a,b,c):\n",
    "    m_a = a.reshape(4,4)\n",
    "    m_b = b.reshape(4,4)\n",
    "    m_c = c.reshape(4,4)\n",
    "    return np.dot(np.dot(m_a, m_b), m_c)\n",
    "\n",
    "while not glfw.window_should_close(window):\n",
    "\n",
    "    glfw.poll_events()\n",
    "    glClear(GL_COLOR_BUFFER_BIT | GL_DEPTH_BUFFER_BIT)\n",
    "    glClearColor(1.0, 1.0, 1.0, 1.0)\n",
    "\n",
    "    mat_translation = np.array([    1.0, 0.0, 0.0, pos_x, \n",
    "                                    0.0, 1.0, 0.0, pos_y, \n",
    "                                    0.0, 0.0, 1.0, pos_z, \n",
    "                                    0.0, 0.0, 0.0,   1.0], np.float32)\n",
    "    \n",
    "    scale_x = scale_y = scale_z = scale\n",
    "    mat_scale =     np.array([      scale_x,     0.0,     0.0, 0.0, \n",
    "                                        0.0, scale_y,     0.0, 0.0, \n",
    "                                        0.0,     0.0, scale_z, 0.0, \n",
    "                                        0.0,     0.0,     0.0, 1.0], np.float32)\n",
    "    \n",
    "    # Apenas para visualizar o cubo rotacionando\n",
    "    # Modifica o angulo de rotacao em cada iteracao\n",
    "    cos = math.cos(angle)\n",
    "    sin = math.sin(angle)\n",
    "    mat_rotation_z = np.array([     cos, -sin, 0.0, 0.0, \n",
    "                                    sin,  cos, 0.0, 0.0, \n",
    "                                    0.0,      0.0, 1.0, 0.0, \n",
    "                                    0.0,      0.0, 0.0, 1.0], np.float32)\n",
    "    \n",
    "    mat_rotation_x = np.array([     1.0,   0.0,    0.0, 0.0, \n",
    "                                    0.0, cos, -sin, 0.0, \n",
    "                                    0.0, sin,  cos, 0.0, \n",
    "                                    0.0,   0.0,    0.0, 1.0], np.float32)\n",
    "    \n",
    "    mat_rotation_y = np.array([     cos,  0.0, sin, 0.0, \n",
    "                                    0.0,    1.0,   0.0, 0.0, \n",
    "                                    -sin, 0.0, cos, 0.0, \n",
    "                                    0.0,    0.0,   0.0, 1.0], np.float32)\n",
    "    \n",
    "    mat_transform = calc_mat(mat_rotation_x, mat_rotation_z, mat_rotation_y)\n",
    "    mat_transform = calc_mat(mat_translation, mat_scale, mat_transform)\n",
    "    glUniformMatrix4fv(loc_mat, 1, GL_TRUE, mat_transform)\n",
    "\n",
    "    glPolygonMode(GL_FRONT_AND_BACK,GL_LINE)\n",
    "   \n",
    "    glUniform4f(loc_color, 1, 0, 0, 1.0) ### vermelho\n",
    "    glDrawArrays(GL_TRIANGLE_STRIP, 0, 4)\n",
    "    \n",
    "    glUniform4f(loc_color, 0, 0, 1, 1.0) ### azul\n",
    "    glDrawArrays(GL_TRIANGLE_STRIP, 4, 4)\n",
    "    \n",
    "    glUniform4f(loc_color, 0, 1, 0, 1.0) ### verde\n",
    "    glDrawArrays(GL_TRIANGLE_STRIP, 8, 4)\n",
    "    \n",
    "    glUniform4f(loc_color, 1, 1, 0, 1.0) ### amarela\n",
    "    glDrawArrays(GL_TRIANGLE_STRIP, 12, 4)\n",
    "    \n",
    "    glUniform4f(loc_color, 0.5, 0.5, 0.5, 1.0) ### cinza\n",
    "    glDrawArrays(GL_TRIANGLE_STRIP, 16, 4)\n",
    "    \n",
    "    glUniform4f(loc_color, 0.5, 0, 0, 1.0) ### marrom\n",
    "    glDrawArrays(GL_TRIANGLE_STRIP, 20, 4)\n",
    "    \n",
    "    glfw.swap_buffers(window)\n",
    "\n",
    "glfw.terminate()"
   ]
  }
 ],
 "metadata": {
  "kernelspec": {
   "display_name": "Python 3",
   "language": "python",
   "name": "python3"
  },
  "language_info": {
   "codemirror_mode": {
    "name": "ipython",
    "version": 3
   },
   "file_extension": ".py",
   "mimetype": "text/x-python",
   "name": "python",
   "nbconvert_exporter": "python",
   "pygments_lexer": "ipython3",
   "version": "3.11.5"
  },
  "orig_nbformat": 4
 },
 "nbformat": 4,
 "nbformat_minor": 2
}
