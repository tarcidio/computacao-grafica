{
  "cells": [
    {
      "cell_type": "markdown",
      "metadata": {
        "id": "P9j7lef_chAW"
      },
      "source": [
        "# Aula03.Ex02 - Transformação Geométrica 2D no OpenGL"
      ]
    },
    {
      "cell_type": "markdown",
      "metadata": {
        "id": "sPcw48__chAX"
      },
      "source": [
        "### Primeiro, vamos importar as bibliotecas necessárias.\n",
        "Verifique no código anterior um script para instalar as dependências necessárias (OpenGL e GLFW) antes de prosseguir."
      ]
    },
    {
      "cell_type": "code",
      "execution_count": 1,
      "metadata": {
        "id": "24h9RVaschAY"
      },
      "outputs": [
        {
          "name": "stdout",
          "output_type": "stream",
          "text": [
            "Requirement already satisfied: glfw in c:\\users\\10748347\\appdata\\local\\packages\\pythonsoftwarefoundation.python.3.11_qbz5n2kfra8p0\\localcache\\local-packages\\python311\\site-packages (2.6.2)\n",
            "Requirement already satisfied: pyopengl in c:\\users\\10748347\\appdata\\local\\packages\\pythonsoftwarefoundation.python.3.11_qbz5n2kfra8p0\\localcache\\local-packages\\python311\\site-packages (3.1.7)\n",
            "Requirement already satisfied: numpy in c:\\users\\10748347\\appdata\\local\\packages\\pythonsoftwarefoundation.python.3.11_qbz5n2kfra8p0\\localcache\\local-packages\\python311\\site-packages (1.25.2)\n"
          ]
        }
      ],
      "source": [
        "#Bibliotecas\n",
        "!pip install glfw\n",
        "import glfw\n",
        "!pip install pyopengl\n",
        "from OpenGL.GL import *\n",
        "import OpenGL.GL.shaders #Não é redundante?\n",
        "!pip install numpy\n",
        "import numpy as np\n",
        "\n",
        "#Sistema glfw\n",
        "glfw.init()\n",
        "glfw.window_hint(glfw.VISIBLE, glfw.FALSE)\n",
        "window = glfw.create_window(720, 600, \"Linhas\", None, None)\n",
        "glfw.make_context_current(window)"
      ]
    },
    {
      "cell_type": "markdown",
      "metadata": {
        "id": "JeTwOe7XchAZ"
      },
      "source": [
        "### Inicializando janela"
      ]
    },
    {
      "cell_type": "code",
      "execution_count": 2,
      "metadata": {
        "id": "dBg1WfS8chAZ"
      },
      "outputs": [],
      "source": [
        "glfw.init()\n",
        "glfw.window_hint(glfw.VISIBLE, glfw.FALSE);\n",
        "window = glfw.create_window(720, 600, \"Cores\", None, None)\n",
        "glfw.make_context_current(window)"
      ]
    },
    {
      "cell_type": "markdown",
      "metadata": {
        "id": "ZijlgXM8chAZ"
      },
      "source": [
        "### GLSL (OpenGL Shading Language)\n",
        "\n",
        "Aqui veremos nosso primeiro código GLSL.\n",
        "\n",
        "É uma linguagem de shading de alto nível baseada na linguagem de programação C.\n",
        "\n",
        "Nós estamos escrevendo código GLSL como se \"strings\" de uma variável (mas podemos ler de arquivos texto). Esse código, depois, terá que ser compilado e linkado ao nosso programa.\n",
        "\n",
        "Iremos aprender GLSL conforme a necessidade do curso. Usarmos uma versão do GLSL mais antiga, compatível com muitos dispositivos."
      ]
    },
    {
      "cell_type": "markdown",
      "metadata": {
        "id": "rXU3jvKpchAZ"
      },
      "source": [
        "### GLSL para Vertex Shader\n",
        "\n",
        "No Pipeline programável, podemos interagir com Vertex Shaders.\n",
        "\n",
        "No código abaixo, estamos fazendo o seguinte:\n",
        "\n",
        "* Definindo uma variável chamada position do tipo vec2.\n",
        "* Definindo uma variável chamada mat_transformation do tipo mat4 (matriz 4x4).\n",
        "* Usamos vec2, pois nosso programa (na CPU) irá enviar apenas duas coordenadas para plotar um ponto. Podemos mandar três coordenadas (vec3) e até mesmo quatro coordenadas (vec4).\n",
        "* void main() é o ponto de entrada do nosso programa (função principal)\n",
        "* gl_Position é uma variável especial do GLSL. Variáveis que começam com 'gl_' são desse tipo. Nesse caso, determina a posição de um vértice. Observe que todo vértice tem 4 coordenadas, por isso nós combinamos nossa variável vec2 com uma variável vec4. Além disso, nós modificamos nosso vetor com base em uma matriz de transformação, conforme estudado na Aula05."
      ]
    },
    {
      "cell_type": "code",
      "execution_count": 3,
      "metadata": {
        "id": "ekKwr19cchAZ"
      },
      "outputs": [],
      "source": [
        "vertex_code = \"\"\"\n",
        "        attribute vec2 position;\n",
        "        uniform mat4 mat_transformation;\n",
        "        void main(){\n",
        "            gl_Position = mat_transformation * vec4(position,0.0,1.0);\n",
        "        }\n",
        "        \"\"\""
      ]
    },
    {
      "cell_type": "markdown",
      "metadata": {
        "id": "1sPyttpXchAa"
      },
      "source": [
        "### GLSL para Fragment Shader\n",
        "\n",
        "No Pipeline programável, podemos interagir com Fragment Shaders.\n",
        "\n",
        "No código abaixo, estamos fazendo o seguinte:\n",
        "\n",
        "* void main() é o ponto de entrada do nosso programa (função principal)\n",
        "* gl_FragColor é uma variável especial do GLSL. Variáveis que começam com 'gl_' são desse tipo. Nesse caso, determina a cor de um fragmento. Nesse caso é um ponto, mas poderia ser outro objeto (ponto, linha, triangulos, etc)."
      ]
    },
    {
      "cell_type": "markdown",
      "metadata": {
        "id": "CBZk0KzHchAa"
      },
      "source": [
        "### Possibilitando modificar a cor.\n",
        "\n",
        "Nos exemplos anteriores, a variável gl_FragColor estava definida de forma fixa (com cor R=0, G=0, B=0).\n",
        "\n",
        "Agora, nós vamos criar uma variável do tipo \"uniform\", de quatro posições (vec4), para receber o dado de cor do nosso programa rodando em CPU."
      ]
    },
    {
      "cell_type": "code",
      "execution_count": 4,
      "metadata": {
        "id": "TAou63PWchAa"
      },
      "outputs": [],
      "source": [
        "fragment_code = \"\"\"\n",
        "        uniform vec4 color;\n",
        "        void main(){\n",
        "            gl_FragColor = color;\n",
        "        }\n",
        "        \"\"\""
      ]
    },
    {
      "cell_type": "markdown",
      "metadata": {
        "id": "HW2yc9_KchAa"
      },
      "source": [
        "### Requisitando slot para a GPU para nossos programas Vertex e Fragment Shaders"
      ]
    },
    {
      "cell_type": "code",
      "execution_count": 5,
      "metadata": {
        "id": "ZTQaXTPKchAa"
      },
      "outputs": [],
      "source": [
        "# Request a program and shader slots from GPU\n",
        "program  = glCreateProgram()\n",
        "vertex   = glCreateShader(GL_VERTEX_SHADER)\n",
        "fragment = glCreateShader(GL_FRAGMENT_SHADER)\n"
      ]
    },
    {
      "cell_type": "markdown",
      "metadata": {
        "id": "xpu7-DQ7chAa"
      },
      "source": [
        "### Associando nosso código-fonte aos slots solicitados"
      ]
    },
    {
      "cell_type": "code",
      "execution_count": 6,
      "metadata": {
        "id": "62HRqd6rchAb"
      },
      "outputs": [],
      "source": [
        "# Set shaders source\n",
        "glShaderSource(vertex, vertex_code)\n",
        "glShaderSource(fragment, fragment_code)"
      ]
    },
    {
      "cell_type": "markdown",
      "metadata": {
        "id": "3ksRW1CTchAb"
      },
      "source": [
        "### Compilando o Vertex Shader\n",
        "\n",
        "Se há algum erro em nosso programa Vertex Shader, nosso app para por aqui."
      ]
    },
    {
      "cell_type": "code",
      "execution_count": 7,
      "metadata": {
        "id": "_76VB8wpchAb"
      },
      "outputs": [],
      "source": [
        "# Compile shaders\n",
        "glCompileShader(vertex)\n",
        "if not glGetShaderiv(vertex, GL_COMPILE_STATUS):\n",
        "    error = glGetShaderInfoLog(vertex).decode()\n",
        "    print(error)\n",
        "    raise RuntimeError(\"Erro de compilacao do Vertex Shader\")\n"
      ]
    },
    {
      "cell_type": "markdown",
      "metadata": {
        "id": "o0R5qzBechAb"
      },
      "source": [
        "### Compilando o Fragment Shader\n",
        "\n",
        "Se há algum erro em nosso programa Fragment Shader, nosso app para por aqui."
      ]
    },
    {
      "cell_type": "code",
      "execution_count": 8,
      "metadata": {
        "id": "LmqEdUdachAb"
      },
      "outputs": [],
      "source": [
        "glCompileShader(fragment)\n",
        "if not glGetShaderiv(fragment, GL_COMPILE_STATUS):\n",
        "    error = glGetShaderInfoLog(fragment).decode()\n",
        "    print(error)\n",
        "    raise RuntimeError(\"Erro de compilacao do Fragment Shader\")"
      ]
    },
    {
      "cell_type": "markdown",
      "metadata": {
        "id": "WLk3R60OchAb"
      },
      "source": [
        "### Associando os programas compilado ao programa principal"
      ]
    },
    {
      "cell_type": "code",
      "execution_count": 9,
      "metadata": {
        "id": "ONAsUHX3chAb"
      },
      "outputs": [],
      "source": [
        "# Attach shader objects to the program\n",
        "glAttachShader(program, vertex)\n",
        "glAttachShader(program, fragment)\n"
      ]
    },
    {
      "cell_type": "markdown",
      "metadata": {
        "id": "kgDaRWTjchAb"
      },
      "source": [
        "### Linkagem do programa"
      ]
    },
    {
      "cell_type": "code",
      "execution_count": 10,
      "metadata": {
        "id": "zehGveCzchAb"
      },
      "outputs": [],
      "source": [
        "# Build program\n",
        "glLinkProgram(program)\n",
        "if not glGetProgramiv(program, GL_LINK_STATUS):\n",
        "    print(glGetProgramInfoLog(program))\n",
        "    raise RuntimeError('Linking error')\n",
        "\n",
        "# Make program the default program\n",
        "glUseProgram(program)"
      ]
    },
    {
      "cell_type": "markdown",
      "metadata": {
        "id": "OYNDGt7kchAc"
      },
      "source": [
        "### Preparando dados para enviar a GPU\n",
        "\n",
        "Nesse momento, nós compilamos nossos Vertex e Program Shaders para que a GPU possa processá-los.\n",
        "\n",
        "Por outro lado, as informações de vértices geralmente estão na CPU e devem ser transmitidas para a GPU.\n"
      ]
    },
    {
      "cell_type": "code",
      "execution_count": 11,
      "metadata": {
        "id": "ul_u62EochAc"
      },
      "outputs": [],
      "source": [
        "# preparando espaço para 3 vértices usando 2 coordenadas (x,y)\n",
        "vertices = np.zeros(3, [(\"position\", np.float32, 2)])"
      ]
    },
    {
      "cell_type": "code",
      "execution_count": 12,
      "metadata": {
        "id": "_S1wYO4TchAc"
      },
      "outputs": [],
      "source": [
        "# preenchendo as coordenadas de cada vértice\n",
        "vertices['position'] = [\n",
        "                            ( 0.0, +0.5), # vertice 0\n",
        "                            (-0.5, -0.5), # vertice 1\n",
        "                            (+0.5, -0.5) # vertice 2\n",
        "                        ]"
      ]
    },
    {
      "cell_type": "markdown",
      "metadata": {
        "id": "QM6_k-21chAc"
      },
      "source": [
        "### Para enviar nossos dados da CPU para a GPU, precisamos requisitar um slot."
      ]
    },
    {
      "cell_type": "code",
      "execution_count": 13,
      "metadata": {
        "id": "Nv4D8rIAchAc"
      },
      "outputs": [],
      "source": [
        "# Request a buffer slot from GPU\n",
        "buffer = glGenBuffers(1)\n",
        "# Make this buffer the default one\n",
        "glBindBuffer(GL_ARRAY_BUFFER, buffer)\n"
      ]
    },
    {
      "cell_type": "markdown",
      "metadata": {
        "id": "PXysF2bMchAc"
      },
      "source": [
        "### Abaixo, nós enviamos todo o conteúdo da variável vertices.\n",
        "\n",
        "Veja os parâmetros da função glBufferData [https://www.khronos.org/registry/OpenGL-Refpages/gl4/html/glBufferData.xhtml]"
      ]
    },
    {
      "cell_type": "code",
      "execution_count": 14,
      "metadata": {
        "id": "gSDvwa-kchAc"
      },
      "outputs": [],
      "source": [
        "# Upload data\n",
        "glBufferData(GL_ARRAY_BUFFER, vertices.nbytes, vertices, GL_DYNAMIC_DRAW)\n",
        "glBindBuffer(GL_ARRAY_BUFFER, buffer)"
      ]
    },
    {
      "cell_type": "markdown",
      "metadata": {
        "id": "KgBHTwa_chAc"
      },
      "source": [
        "### Associando variáveis do programa GLSL (Vertex Shaders) com nossos dados\n",
        "\n",
        "Primeiro, definimos o byte inicial e o offset dos dados."
      ]
    },
    {
      "cell_type": "code",
      "execution_count": 15,
      "metadata": {
        "id": "N2JH1_FTchAc"
      },
      "outputs": [],
      "source": [
        "# Bind the position attribute\n",
        "# --------------------------------------\n",
        "stride = vertices.strides[0]\n",
        "offset = ctypes.c_void_p(0)\n"
      ]
    },
    {
      "cell_type": "markdown",
      "metadata": {
        "id": "a_upCpNlchAc"
      },
      "source": [
        "Em seguida, soliciamos à GPU a localização da variável \"position\" (que guarda coordenadas dos nossos vértices). Nós definimos essa variável no Vertex Shader."
      ]
    },
    {
      "cell_type": "code",
      "execution_count": 16,
      "metadata": {
        "id": "ZQheRc71chAd"
      },
      "outputs": [],
      "source": [
        "loc = glGetAttribLocation(program, \"position\")\n",
        "glEnableVertexAttribArray(loc)"
      ]
    },
    {
      "cell_type": "markdown",
      "metadata": {
        "id": "b51cdiluchAd"
      },
      "source": [
        "A partir da localização anterior, nós indicamos à GPU onde está o conteúdo (via posições stride/offset) para a variável position (aqui identificada na posição loc).\n",
        "\n",
        "Outros parâmetros:\n",
        "\n",
        "* Definimos que possui duas coordenadas\n",
        "* Que cada coordenada é do tipo float (GL_FLOAT)\n",
        "* Que não se deve normalizar a coordenada (False)\n",
        "\n",
        "Mais detalhes: https://www.khronos.org/registry/OpenGL-Refpages/gl4/html/glVertexAttribPointer.xhtml"
      ]
    },
    {
      "cell_type": "code",
      "execution_count": 17,
      "metadata": {
        "id": "okZeIkcOchAd"
      },
      "outputs": [],
      "source": [
        "glVertexAttribPointer(loc, 2, GL_FLOAT, False, stride, offset)"
      ]
    },
    {
      "cell_type": "markdown",
      "metadata": {
        "id": "bSuex-vmchAd"
      },
      "source": [
        "###  Novidade aqui! Vamos pegar a localização da variável color (uniform) para que possamos alterá-la em nosso laço da janela!"
      ]
    },
    {
      "cell_type": "code",
      "execution_count": 18,
      "metadata": {
        "id": "Z1IrvBrTchAd"
      },
      "outputs": [],
      "source": [
        "loc_color = glGetUniformLocation(program, \"color\")\n",
        "R = 1.0\n",
        "G = 0.0\n",
        "B = 0.0"
      ]
    },
    {
      "cell_type": "markdown",
      "metadata": {
        "id": "hDHrikWechAd"
      },
      "source": [
        "### Capturando eventos de teclado e modificando variáveis para a matriz de transformação"
      ]
    },
    {
      "cell_type": "code",
      "execution_count": 19,
      "metadata": {
        "id": "EK13ZVOvchAk"
      },
      "outputs": [],
      "source": [
        "# exemplo para matriz de translacao\n",
        "t_x = 0\n",
        "t_y = 0\n",
        "\n",
        "def key_event(window,key,scancode,action,mods):\n",
        "    global t_x, t_y\n",
        "\n",
        "#     print('[key event] key=',key)\n",
        "#     print('[key event] scancode=',scancode)\n",
        "#     print('[key event] action=',action)\n",
        "#     print('[key event] mods=',mods)\n",
        "#     print('-------')\n",
        "    if key == 265: t_y += 0.01 #cima\n",
        "    if key == 264: t_y -= 0.01 #baixo\n",
        "    if key == 263: t_x -= 0.01 #esquerda\n",
        "    if key == 262: t_x += 0.01 #direita\n",
        "\n",
        "glfw.set_key_callback(window,key_event)\n",
        "\n"
      ]
    },
    {
      "cell_type": "markdown",
      "metadata": {
        "id": "7Kk3SV6hchAk"
      },
      "source": [
        "### Nesse momento, nós exibimos a janela!\n"
      ]
    },
    {
      "cell_type": "code",
      "execution_count": 20,
      "metadata": {
        "id": "0GWoipgvchAk"
      },
      "outputs": [],
      "source": [
        "glfw.show_window(window)"
      ]
    },
    {
      "cell_type": "markdown",
      "metadata": {
        "id": "e5xDZieVchAk"
      },
      "source": [
        "### Loop principal da janela.\n",
        "Enquanto a janela não for fechada, esse laço será executado. É neste espaço que trabalhamos com algumas interações com a OpenGL.\n",
        "\n",
        "A novidade agora é a função glDrawArrays()\n",
        "\n",
        "Tal função recebe o tipo de primitiva (GL_TRIANGLES), o índice inicial do array de vértices (vamos mostrar todos os três vértices, por isso começamos com 0) e a quantidade de vértices ( len(vertices) )."
      ]
    },
    {
      "cell_type": "code",
      "execution_count": 21,
      "metadata": {
        "id": "xr85tUiWchAk"
      },
      "outputs": [],
      "source": [
        "t_y = 1\n",
        "t_x = 1\n",
        "while not glfw.window_should_close(window):\n",
        "\n",
        "    glfw.poll_events()\n",
        "\n",
        "    # if t_y != 1 or t_x != 1:\n",
        "    #     print(t_y)\n",
        "    #     print(t_x)\n",
        "\n",
        "\n",
        "    glClear(GL_COLOR_BUFFER_BIT)\n",
        "    glClearColor(1.0, 1.0, 1.0, 1.0)\n",
        "\n",
        "\n",
        "    #Draw Triangle\n",
        "    mat_translation = np.array([    1.0, 0.0, 0.0, t_x,\n",
        "                                    0.0, 1.0, 0.0, t_y,\n",
        "                                    0.0, 0.0, 1.0, 0.0,\n",
        "                                    0.0, 0.0, 0.0, 1.0], np.float32)\n",
        "\n",
        "    s_x = 1\n",
        "    s_y = 1\n",
        "    mat_scale       = np.array([    s_x, 0.0, 0.0, 0.0,\n",
        "                                    0.0, s_y, 0.0, 0.0,\n",
        "                                    0.0, 0.0, 1.0, 0.0,\n",
        "                                    0.0, 0.0, 0.0, 1.0], np.float32)\n",
        "    \n",
        "\n",
        "\n",
        "    loc = glGetUniformLocation(program, \"mat_transformation\")\n",
        "    glUniformMatrix4fv(loc, 1, GL_TRUE, np.dot(mat_scale, mat_translation))\n",
        "\n",
        "\n",
        "    glDrawArrays(GL_TRIANGLES, 0, len(vertices))\n",
        "    glUniform4f(loc_color, R, G, B, 1.0) ### modificando a cor do objeto!\n",
        "\n",
        "    glfw.swap_buffers(window)\n",
        "\n",
        "glfw.terminate()"
      ]
    },
    {
      "cell_type": "markdown",
      "metadata": {
        "id": "AZBMliuichAl"
      },
      "source": [
        "# Exercício\n",
        "\n",
        "Modifique esse código para:\n",
        "\n",
        "1) Matriz de Rotação: esquerda ou direita.\n",
        "\n",
        "2) Matriz de Escala: aumentar e diminuir\n"
      ]
    }
  ],
  "metadata": {
    "colab": {
      "provenance": []
    },
    "finalized": {
      "timestamp": 1583114796072,
      "trusted": true
    },
    "kernelspec": {
      "display_name": "Python 3",
      "language": "python",
      "name": "python3"
    },
    "language_info": {
      "codemirror_mode": {
        "name": "ipython",
        "version": 3
      },
      "file_extension": ".py",
      "mimetype": "text/x-python",
      "name": "python",
      "nbconvert_exporter": "python",
      "pygments_lexer": "ipython3",
      "version": "3.11.5"
    }
  },
  "nbformat": 4,
  "nbformat_minor": 0
}
